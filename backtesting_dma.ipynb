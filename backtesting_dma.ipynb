{
 "cells": [
  {
   "cell_type": "code",
   "execution_count": 7,
   "metadata": {},
   "outputs": [],
   "source": [
    "from datetime import datetime\n",
    "\n",
    "from vnpy_evo.trader.optimize import OptimizationSetting\n",
    "from vnpy_novastrategy.backtesting import BacktestingEngine\n",
    "from vnpy_novastrategy.strategies.sma_strategy import SmaStrategy\n",
    "from vnpy_novastrategy.strategies.multi_indicator import MultiIndicatorStrategy\n",
    "from vnpy_novastrategy.strategies.dma_vol import DMAVolatilityStrategy\n",
    "from vnpy_evo.trader.constant import Interval"
   ]
  },
  {
   "cell_type": "code",
   "execution_count": 8,
   "metadata": {},
   "outputs": [],
   "source": [
    "engine = BacktestingEngine()\n",
    "engine.set_parameters(\n",
    "    # vt_symbol=\"BTCUSDT.BINANCE\",\n",
    "    interval=Interval.MINUTE,\n",
    "    start=datetime(2024, 1, 1),\n",
    "    end=datetime(2024, 12, 30),\n",
    "    # rate=0.3/10000,\n",
    "    # slippage=0.2,\n",
    "    # size=300,\n",
    "    # pricetick=0.2,\n",
    "    capital=50_000,\n",
    ")\n",
    "engine.add_contract(\"BTC.BINANCE\", 1, 0.1, 0.02, 0.001, 10)\n",
    "engine.add_strategy(DMAVolatilityStrategy, {})"
   ]
  },
  {
   "cell_type": "code",
   "execution_count": 9,
   "metadata": {},
   "outputs": [
    {
     "name": "stdout",
     "output_type": "stream",
     "text": [
      "2025-05-14 19:12:00.832054\tLoading history data.\n",
      "2025-05-14 19:12:00.990047\tBar data of BTC.BINANCE loaded, total count: 524161.\n",
      "2025-05-14 19:12:00.990047\tHistory data all loaded.\n",
      "2025-05-14 19:12:03.521021\tThe strategy is inited.\n",
      "2025-05-14 19:12:03.521021\tStarting to replay history data.\n"
     ]
    },
    {
     "name": "stderr",
     "output_type": "stream",
     "text": [
      "100%|██████████| 380161/380161 [00:11<00:00, 31952.53it/s]\n"
     ]
    },
    {
     "name": "stdout",
     "output_type": "stream",
     "text": [
      "2025-05-14 19:12:15.423396\tReplaying history data finished.\n",
      "2025-05-14 19:12:15.440341\tCalculating daily PnL.\n",
      "2025-05-14 19:12:15.661034\tCalculation of daily PnL finished.\n",
      "2025-05-14 19:12:15.661034\tCalculating performance statistics.\n",
      "2025-05-14 19:12:15.661034\t------------------------------\n",
      "2025-05-14 19:12:15.661034\tStart Date:\t2024-04-10\n",
      "2025-05-14 19:12:15.661034\tEnd Date:\t2024-12-30\n",
      "2025-05-14 19:12:15.661034\tTotal Days:\t265\n",
      "2025-05-14 19:12:15.661034\tProfit Days:\t132\n",
      "2025-05-14 19:12:15.661034\tLoss Days:\t133\n",
      "2025-05-14 19:12:15.661034\tStart Balance:\t50,000.00\n",
      "2025-05-14 19:12:15.661034\tEnd Balance:\t52,270.69\n",
      "2025-05-14 19:12:15.661034\tTotal Return:\t4.54%\n",
      "2025-05-14 19:12:15.661034\tAnnual Return:\t6.26%\n",
      "2025-05-14 19:12:15.661034\tMax Drawdown: \t-1,789.33\n",
      "2025-05-14 19:12:15.661034\tMax Drawdown(%): -3.42%\n",
      "2025-05-14 19:12:15.661034\tMax Drawdown Duration: \t106\n",
      "2025-05-14 19:12:15.661034\tTotal PnL:\t2,270.69\n",
      "2025-05-14 19:12:15.661034\tTotal Commission:\t1,204.95\n",
      "2025-05-14 19:12:15.661034\tTotal Slippage:\t183.00\n",
      "2025-05-14 19:12:15.661034\tTotal Turnover:\t1,204,953.14\n",
      "2025-05-14 19:12:15.661034\tTotal Trades:\t380160\n",
      "2025-05-14 19:12:15.661034\tDaily PnL:\t8.57\n",
      "2025-05-14 19:12:15.661034\tDaily Commission:\t4.55\n",
      "2025-05-14 19:12:15.661034\tDaily Slippage:\t0.69\n",
      "2025-05-14 19:12:15.661034\tDaily Turnover:\t4,546.99\n",
      "2025-05-14 19:12:15.661034\tDaily Trades:\t1434.566037735849\n",
      "2025-05-14 19:12:15.661034\tDaily Return:\t0.02%\n",
      "2025-05-14 19:12:15.661034\tReturn Std:\t0.36%\n",
      "2025-05-14 19:12:15.661034\tSharpe Ratio:\t1.01\n",
      "2025-05-14 19:12:15.661034\tReturn Drawdown Ratio:\t1.27\n",
      "2025-05-14 19:12:15.661034\tCalculation of performance statistics finished.\n"
     ]
    },
    {
     "data": {
      "application/vnd.plotly.v1+json": {
       "config": {
        "plotlyServerURL": "https://plot.ly"
       },
       "data": [
        {
         "mode": "lines",
         "name": "Balance",
         "type": "scatter",
         "x": [
          "2024-04-10",
          "2024-04-11",
          "2024-04-12",
          "2024-04-13",
          "2024-04-14",
          "2024-04-15",
          "2024-04-16",
          "2024-04-17",
          "2024-04-18",
          "2024-04-19",
          "2024-04-20",
          "2024-04-21",
          "2024-04-22",
          "2024-04-23",
          "2024-04-24",
          "2024-04-25",
          "2024-04-26",
          "2024-04-27",
          "2024-04-28",
          "2024-04-29",
          "2024-04-30",
          "2024-05-01",
          "2024-05-02",
          "2024-05-03",
          "2024-05-04",
          "2024-05-05",
          "2024-05-06",
          "2024-05-07",
          "2024-05-08",
          "2024-05-09",
          "2024-05-10",
          "2024-05-11",
          "2024-05-12",
          "2024-05-13",
          "2024-05-14",
          "2024-05-15",
          "2024-05-16",
          "2024-05-17",
          "2024-05-18",
          "2024-05-19",
          "2024-05-20",
          "2024-05-21",
          "2024-05-22",
          "2024-05-23",
          "2024-05-24",
          "2024-05-25",
          "2024-05-26",
          "2024-05-27",
          "2024-05-28",
          "2024-05-29",
          "2024-05-30",
          "2024-05-31",
          "2024-06-01",
          "2024-06-02",
          "2024-06-03",
          "2024-06-04",
          "2024-06-05",
          "2024-06-06",
          "2024-06-07",
          "2024-06-08",
          "2024-06-09",
          "2024-06-10",
          "2024-06-11",
          "2024-06-12",
          "2024-06-13",
          "2024-06-14",
          "2024-06-15",
          "2024-06-16",
          "2024-06-17",
          "2024-06-18",
          "2024-06-19",
          "2024-06-20",
          "2024-06-21",
          "2024-06-22",
          "2024-06-23",
          "2024-06-24",
          "2024-06-25",
          "2024-06-26",
          "2024-06-27",
          "2024-06-28",
          "2024-06-29",
          "2024-06-30",
          "2024-07-01",
          "2024-07-02",
          "2024-07-03",
          "2024-07-04",
          "2024-07-05",
          "2024-07-06",
          "2024-07-07",
          "2024-07-08",
          "2024-07-09",
          "2024-07-10",
          "2024-07-11",
          "2024-07-12",
          "2024-07-13",
          "2024-07-14",
          "2024-07-15",
          "2024-07-16",
          "2024-07-17",
          "2024-07-18",
          "2024-07-19",
          "2024-07-20",
          "2024-07-21",
          "2024-07-22",
          "2024-07-23",
          "2024-07-24",
          "2024-07-25",
          "2024-07-26",
          "2024-07-27",
          "2024-07-28",
          "2024-07-29",
          "2024-07-30",
          "2024-07-31",
          "2024-08-01",
          "2024-08-02",
          "2024-08-03",
          "2024-08-04",
          "2024-08-05",
          "2024-08-06",
          "2024-08-07",
          "2024-08-08",
          "2024-08-09",
          "2024-08-10",
          "2024-08-11",
          "2024-08-12",
          "2024-08-13",
          "2024-08-14",
          "2024-08-15",
          "2024-08-16",
          "2024-08-17",
          "2024-08-18",
          "2024-08-19",
          "2024-08-20",
          "2024-08-21",
          "2024-08-22",
          "2024-08-23",
          "2024-08-24",
          "2024-08-25",
          "2024-08-26",
          "2024-08-27",
          "2024-08-28",
          "2024-08-29",
          "2024-08-30",
          "2024-08-31",
          "2024-09-01",
          "2024-09-02",
          "2024-09-03",
          "2024-09-04",
          "2024-09-05",
          "2024-09-06",
          "2024-09-07",
          "2024-09-08",
          "2024-09-09",
          "2024-09-10",
          "2024-09-11",
          "2024-09-12",
          "2024-09-13",
          "2024-09-14",
          "2024-09-15",
          "2024-09-16",
          "2024-09-17",
          "2024-09-18",
          "2024-09-19",
          "2024-09-20",
          "2024-09-21",
          "2024-09-22",
          "2024-09-23",
          "2024-09-24",
          "2024-09-25",
          "2024-09-26",
          "2024-09-27",
          "2024-09-28",
          "2024-09-29",
          "2024-09-30",
          "2024-10-01",
          "2024-10-02",
          "2024-10-03",
          "2024-10-04",
          "2024-10-05",
          "2024-10-06",
          "2024-10-07",
          "2024-10-08",
          "2024-10-09",
          "2024-10-10",
          "2024-10-11",
          "2024-10-12",
          "2024-10-13",
          "2024-10-14",
          "2024-10-15",
          "2024-10-16",
          "2024-10-17",
          "2024-10-18",
          "2024-10-19",
          "2024-10-20",
          "2024-10-21",
          "2024-10-22",
          "2024-10-23",
          "2024-10-24",
          "2024-10-25",
          "2024-10-26",
          "2024-10-27",
          "2024-10-28",
          "2024-10-29",
          "2024-10-30",
          "2024-10-31",
          "2024-11-01",
          "2024-11-02",
          "2024-11-03",
          "2024-11-04",
          "2024-11-05",
          "2024-11-06",
          "2024-11-07",
          "2024-11-08",
          "2024-11-09",
          "2024-11-10",
          "2024-11-11",
          "2024-11-12",
          "2024-11-13",
          "2024-11-14",
          "2024-11-15",
          "2024-11-16",
          "2024-11-17",
          "2024-11-18",
          "2024-11-19",
          "2024-11-20",
          "2024-11-21",
          "2024-11-22",
          "2024-11-23",
          "2024-11-24",
          "2024-11-25",
          "2024-11-26",
          "2024-11-27",
          "2024-11-28",
          "2024-11-29",
          "2024-11-30",
          "2024-12-01",
          "2024-12-02",
          "2024-12-03",
          "2024-12-04",
          "2024-12-05",
          "2024-12-06",
          "2024-12-07",
          "2024-12-08",
          "2024-12-09",
          "2024-12-10",
          "2024-12-11",
          "2024-12-12",
          "2024-12-13",
          "2024-12-14",
          "2024-12-15",
          "2024-12-16",
          "2024-12-17",
          "2024-12-18",
          "2024-12-19",
          "2024-12-20",
          "2024-12-21",
          "2024-12-22",
          "2024-12-23",
          "2024-12-24",
          "2024-12-25",
          "2024-12-26",
          "2024-12-27",
          "2024-12-28",
          "2024-12-29",
          "2024-12-30"
         ],
         "xaxis": "x",
         "y": {
          "bdata": "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",
          "dtype": "f8"
         },
         "yaxis": "y"
        },
        {
         "fill": "tozeroy",
         "fillcolor": "red",
         "mode": "lines",
         "name": "Drawdown",
         "type": "scatter",
         "x": [
          "2024-04-10",
          "2024-04-11",
          "2024-04-12",
          "2024-04-13",
          "2024-04-14",
          "2024-04-15",
          "2024-04-16",
          "2024-04-17",
          "2024-04-18",
          "2024-04-19",
          "2024-04-20",
          "2024-04-21",
          "2024-04-22",
          "2024-04-23",
          "2024-04-24",
          "2024-04-25",
          "2024-04-26",
          "2024-04-27",
          "2024-04-28",
          "2024-04-29",
          "2024-04-30",
          "2024-05-01",
          "2024-05-02",
          "2024-05-03",
          "2024-05-04",
          "2024-05-05",
          "2024-05-06",
          "2024-05-07",
          "2024-05-08",
          "2024-05-09",
          "2024-05-10",
          "2024-05-11",
          "2024-05-12",
          "2024-05-13",
          "2024-05-14",
          "2024-05-15",
          "2024-05-16",
          "2024-05-17",
          "2024-05-18",
          "2024-05-19",
          "2024-05-20",
          "2024-05-21",
          "2024-05-22",
          "2024-05-23",
          "2024-05-24",
          "2024-05-25",
          "2024-05-26",
          "2024-05-27",
          "2024-05-28",
          "2024-05-29",
          "2024-05-30",
          "2024-05-31",
          "2024-06-01",
          "2024-06-02",
          "2024-06-03",
          "2024-06-04",
          "2024-06-05",
          "2024-06-06",
          "2024-06-07",
          "2024-06-08",
          "2024-06-09",
          "2024-06-10",
          "2024-06-11",
          "2024-06-12",
          "2024-06-13",
          "2024-06-14",
          "2024-06-15",
          "2024-06-16",
          "2024-06-17",
          "2024-06-18",
          "2024-06-19",
          "2024-06-20",
          "2024-06-21",
          "2024-06-22",
          "2024-06-23",
          "2024-06-24",
          "2024-06-25",
          "2024-06-26",
          "2024-06-27",
          "2024-06-28",
          "2024-06-29",
          "2024-06-30",
          "2024-07-01",
          "2024-07-02",
          "2024-07-03",
          "2024-07-04",
          "2024-07-05",
          "2024-07-06",
          "2024-07-07",
          "2024-07-08",
          "2024-07-09",
          "2024-07-10",
          "2024-07-11",
          "2024-07-12",
          "2024-07-13",
          "2024-07-14",
          "2024-07-15",
          "2024-07-16",
          "2024-07-17",
          "2024-07-18",
          "2024-07-19",
          "2024-07-20",
          "2024-07-21",
          "2024-07-22",
          "2024-07-23",
          "2024-07-24",
          "2024-07-25",
          "2024-07-26",
          "2024-07-27",
          "2024-07-28",
          "2024-07-29",
          "2024-07-30",
          "2024-07-31",
          "2024-08-01",
          "2024-08-02",
          "2024-08-03",
          "2024-08-04",
          "2024-08-05",
          "2024-08-06",
          "2024-08-07",
          "2024-08-08",
          "2024-08-09",
          "2024-08-10",
          "2024-08-11",
          "2024-08-12",
          "2024-08-13",
          "2024-08-14",
          "2024-08-15",
          "2024-08-16",
          "2024-08-17",
          "2024-08-18",
          "2024-08-19",
          "2024-08-20",
          "2024-08-21",
          "2024-08-22",
          "2024-08-23",
          "2024-08-24",
          "2024-08-25",
          "2024-08-26",
          "2024-08-27",
          "2024-08-28",
          "2024-08-29",
          "2024-08-30",
          "2024-08-31",
          "2024-09-01",
          "2024-09-02",
          "2024-09-03",
          "2024-09-04",
          "2024-09-05",
          "2024-09-06",
          "2024-09-07",
          "2024-09-08",
          "2024-09-09",
          "2024-09-10",
          "2024-09-11",
          "2024-09-12",
          "2024-09-13",
          "2024-09-14",
          "2024-09-15",
          "2024-09-16",
          "2024-09-17",
          "2024-09-18",
          "2024-09-19",
          "2024-09-20",
          "2024-09-21",
          "2024-09-22",
          "2024-09-23",
          "2024-09-24",
          "2024-09-25",
          "2024-09-26",
          "2024-09-27",
          "2024-09-28",
          "2024-09-29",
          "2024-09-30",
          "2024-10-01",
          "2024-10-02",
          "2024-10-03",
          "2024-10-04",
          "2024-10-05",
          "2024-10-06",
          "2024-10-07",
          "2024-10-08",
          "2024-10-09",
          "2024-10-10",
          "2024-10-11",
          "2024-10-12",
          "2024-10-13",
          "2024-10-14",
          "2024-10-15",
          "2024-10-16",
          "2024-10-17",
          "2024-10-18",
          "2024-10-19",
          "2024-10-20",
          "2024-10-21",
          "2024-10-22",
          "2024-10-23",
          "2024-10-24",
          "2024-10-25",
          "2024-10-26",
          "2024-10-27",
          "2024-10-28",
          "2024-10-29",
          "2024-10-30",
          "2024-10-31",
          "2024-11-01",
          "2024-11-02",
          "2024-11-03",
          "2024-11-04",
          "2024-11-05",
          "2024-11-06",
          "2024-11-07",
          "2024-11-08",
          "2024-11-09",
          "2024-11-10",
          "2024-11-11",
          "2024-11-12",
          "2024-11-13",
          "2024-11-14",
          "2024-11-15",
          "2024-11-16",
          "2024-11-17",
          "2024-11-18",
          "2024-11-19",
          "2024-11-20",
          "2024-11-21",
          "2024-11-22",
          "2024-11-23",
          "2024-11-24",
          "2024-11-25",
          "2024-11-26",
          "2024-11-27",
          "2024-11-28",
          "2024-11-29",
          "2024-11-30",
          "2024-12-01",
          "2024-12-02",
          "2024-12-03",
          "2024-12-04",
          "2024-12-05",
          "2024-12-06",
          "2024-12-07",
          "2024-12-08",
          "2024-12-09",
          "2024-12-10",
          "2024-12-11",
          "2024-12-12",
          "2024-12-13",
          "2024-12-14",
          "2024-12-15",
          "2024-12-16",
          "2024-12-17",
          "2024-12-18",
          "2024-12-19",
          "2024-12-20",
          "2024-12-21",
          "2024-12-22",
          "2024-12-23",
          "2024-12-24",
          "2024-12-25",
          "2024-12-26",
          "2024-12-27",
          "2024-12-28",
          "2024-12-29",
          "2024-12-30"
         ],
         "xaxis": "x2",
         "y": {
          "bdata": "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",
          "dtype": "f8"
         },
         "yaxis": "y2"
        },
        {
         "name": "Daily PnL",
         "type": "bar",
         "xaxis": "x3",
         "y": {
          "bdata": "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",
          "dtype": "f8"
         },
         "yaxis": "y3"
        },
        {
         "name": "Days",
         "nbinsx": 100,
         "type": "histogram",
         "x": {
          "bdata": "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",
          "dtype": "f8"
         },
         "xaxis": "x4",
         "yaxis": "y4"
        }
       ],
       "layout": {
        "annotations": [
         {
          "font": {
           "size": 16
          },
          "showarrow": false,
          "text": "Balance",
          "x": 0.5,
          "xanchor": "center",
          "xref": "paper",
          "y": 1,
          "yanchor": "bottom",
          "yref": "paper"
         },
         {
          "font": {
           "size": 16
          },
          "showarrow": false,
          "text": "Drawdown",
          "x": 0.5,
          "xanchor": "center",
          "xref": "paper",
          "y": 0.7350000000000001,
          "yanchor": "bottom",
          "yref": "paper"
         },
         {
          "font": {
           "size": 16
          },
          "showarrow": false,
          "text": "Daily PnL",
          "x": 0.5,
          "xanchor": "center",
          "xref": "paper",
          "y": 0.47000000000000003,
          "yanchor": "bottom",
          "yref": "paper"
         },
         {
          "font": {
           "size": 16
          },
          "showarrow": false,
          "text": "PnL Distribution",
          "x": 0.5,
          "xanchor": "center",
          "xref": "paper",
          "y": 0.20500000000000002,
          "yanchor": "bottom",
          "yref": "paper"
         }
        ],
        "height": 1000,
        "template": {
         "data": {
          "bar": [
           {
            "error_x": {
             "color": "#2a3f5f"
            },
            "error_y": {
             "color": "#2a3f5f"
            },
            "marker": {
             "line": {
              "color": "#E5ECF6",
              "width": 0.5
             },
             "pattern": {
              "fillmode": "overlay",
              "size": 10,
              "solidity": 0.2
             }
            },
            "type": "bar"
           }
          ],
          "barpolar": [
           {
            "marker": {
             "line": {
              "color": "#E5ECF6",
              "width": 0.5
             },
             "pattern": {
              "fillmode": "overlay",
              "size": 10,
              "solidity": 0.2
             }
            },
            "type": "barpolar"
           }
          ],
          "carpet": [
           {
            "aaxis": {
             "endlinecolor": "#2a3f5f",
             "gridcolor": "white",
             "linecolor": "white",
             "minorgridcolor": "white",
             "startlinecolor": "#2a3f5f"
            },
            "baxis": {
             "endlinecolor": "#2a3f5f",
             "gridcolor": "white",
             "linecolor": "white",
             "minorgridcolor": "white",
             "startlinecolor": "#2a3f5f"
            },
            "type": "carpet"
           }
          ],
          "choropleth": [
           {
            "colorbar": {
             "outlinewidth": 0,
             "ticks": ""
            },
            "type": "choropleth"
           }
          ],
          "contour": [
           {
            "colorbar": {
             "outlinewidth": 0,
             "ticks": ""
            },
            "colorscale": [
             [
              0,
              "#0d0887"
             ],
             [
              0.1111111111111111,
              "#46039f"
             ],
             [
              0.2222222222222222,
              "#7201a8"
             ],
             [
              0.3333333333333333,
              "#9c179e"
             ],
             [
              0.4444444444444444,
              "#bd3786"
             ],
             [
              0.5555555555555556,
              "#d8576b"
             ],
             [
              0.6666666666666666,
              "#ed7953"
             ],
             [
              0.7777777777777778,
              "#fb9f3a"
             ],
             [
              0.8888888888888888,
              "#fdca26"
             ],
             [
              1,
              "#f0f921"
             ]
            ],
            "type": "contour"
           }
          ],
          "contourcarpet": [
           {
            "colorbar": {
             "outlinewidth": 0,
             "ticks": ""
            },
            "type": "contourcarpet"
           }
          ],
          "heatmap": [
           {
            "colorbar": {
             "outlinewidth": 0,
             "ticks": ""
            },
            "colorscale": [
             [
              0,
              "#0d0887"
             ],
             [
              0.1111111111111111,
              "#46039f"
             ],
             [
              0.2222222222222222,
              "#7201a8"
             ],
             [
              0.3333333333333333,
              "#9c179e"
             ],
             [
              0.4444444444444444,
              "#bd3786"
             ],
             [
              0.5555555555555556,
              "#d8576b"
             ],
             [
              0.6666666666666666,
              "#ed7953"
             ],
             [
              0.7777777777777778,
              "#fb9f3a"
             ],
             [
              0.8888888888888888,
              "#fdca26"
             ],
             [
              1,
              "#f0f921"
             ]
            ],
            "type": "heatmap"
           }
          ],
          "histogram": [
           {
            "marker": {
             "pattern": {
              "fillmode": "overlay",
              "size": 10,
              "solidity": 0.2
             }
            },
            "type": "histogram"
           }
          ],
          "histogram2d": [
           {
            "colorbar": {
             "outlinewidth": 0,
             "ticks": ""
            },
            "colorscale": [
             [
              0,
              "#0d0887"
             ],
             [
              0.1111111111111111,
              "#46039f"
             ],
             [
              0.2222222222222222,
              "#7201a8"
             ],
             [
              0.3333333333333333,
              "#9c179e"
             ],
             [
              0.4444444444444444,
              "#bd3786"
             ],
             [
              0.5555555555555556,
              "#d8576b"
             ],
             [
              0.6666666666666666,
              "#ed7953"
             ],
             [
              0.7777777777777778,
              "#fb9f3a"
             ],
             [
              0.8888888888888888,
              "#fdca26"
             ],
             [
              1,
              "#f0f921"
             ]
            ],
            "type": "histogram2d"
           }
          ],
          "histogram2dcontour": [
           {
            "colorbar": {
             "outlinewidth": 0,
             "ticks": ""
            },
            "colorscale": [
             [
              0,
              "#0d0887"
             ],
             [
              0.1111111111111111,
              "#46039f"
             ],
             [
              0.2222222222222222,
              "#7201a8"
             ],
             [
              0.3333333333333333,
              "#9c179e"
             ],
             [
              0.4444444444444444,
              "#bd3786"
             ],
             [
              0.5555555555555556,
              "#d8576b"
             ],
             [
              0.6666666666666666,
              "#ed7953"
             ],
             [
              0.7777777777777778,
              "#fb9f3a"
             ],
             [
              0.8888888888888888,
              "#fdca26"
             ],
             [
              1,
              "#f0f921"
             ]
            ],
            "type": "histogram2dcontour"
           }
          ],
          "mesh3d": [
           {
            "colorbar": {
             "outlinewidth": 0,
             "ticks": ""
            },
            "type": "mesh3d"
           }
          ],
          "parcoords": [
           {
            "line": {
             "colorbar": {
              "outlinewidth": 0,
              "ticks": ""
             }
            },
            "type": "parcoords"
           }
          ],
          "pie": [
           {
            "automargin": true,
            "type": "pie"
           }
          ],
          "scatter": [
           {
            "fillpattern": {
             "fillmode": "overlay",
             "size": 10,
             "solidity": 0.2
            },
            "type": "scatter"
           }
          ],
          "scatter3d": [
           {
            "line": {
             "colorbar": {
              "outlinewidth": 0,
              "ticks": ""
             }
            },
            "marker": {
             "colorbar": {
              "outlinewidth": 0,
              "ticks": ""
             }
            },
            "type": "scatter3d"
           }
          ],
          "scattercarpet": [
           {
            "marker": {
             "colorbar": {
              "outlinewidth": 0,
              "ticks": ""
             }
            },
            "type": "scattercarpet"
           }
          ],
          "scattergeo": [
           {
            "marker": {
             "colorbar": {
              "outlinewidth": 0,
              "ticks": ""
             }
            },
            "type": "scattergeo"
           }
          ],
          "scattergl": [
           {
            "marker": {
             "colorbar": {
              "outlinewidth": 0,
              "ticks": ""
             }
            },
            "type": "scattergl"
           }
          ],
          "scattermap": [
           {
            "marker": {
             "colorbar": {
              "outlinewidth": 0,
              "ticks": ""
             }
            },
            "type": "scattermap"
           }
          ],
          "scattermapbox": [
           {
            "marker": {
             "colorbar": {
              "outlinewidth": 0,
              "ticks": ""
             }
            },
            "type": "scattermapbox"
           }
          ],
          "scatterpolar": [
           {
            "marker": {
             "colorbar": {
              "outlinewidth": 0,
              "ticks": ""
             }
            },
            "type": "scatterpolar"
           }
          ],
          "scatterpolargl": [
           {
            "marker": {
             "colorbar": {
              "outlinewidth": 0,
              "ticks": ""
             }
            },
            "type": "scatterpolargl"
           }
          ],
          "scatterternary": [
           {
            "marker": {
             "colorbar": {
              "outlinewidth": 0,
              "ticks": ""
             }
            },
            "type": "scatterternary"
           }
          ],
          "surface": [
           {
            "colorbar": {
             "outlinewidth": 0,
             "ticks": ""
            },
            "colorscale": [
             [
              0,
              "#0d0887"
             ],
             [
              0.1111111111111111,
              "#46039f"
             ],
             [
              0.2222222222222222,
              "#7201a8"
             ],
             [
              0.3333333333333333,
              "#9c179e"
             ],
             [
              0.4444444444444444,
              "#bd3786"
             ],
             [
              0.5555555555555556,
              "#d8576b"
             ],
             [
              0.6666666666666666,
              "#ed7953"
             ],
             [
              0.7777777777777778,
              "#fb9f3a"
             ],
             [
              0.8888888888888888,
              "#fdca26"
             ],
             [
              1,
              "#f0f921"
             ]
            ],
            "type": "surface"
           }
          ],
          "table": [
           {
            "cells": {
             "fill": {
              "color": "#EBF0F8"
             },
             "line": {
              "color": "white"
             }
            },
            "header": {
             "fill": {
              "color": "#C8D4E3"
             },
             "line": {
              "color": "white"
             }
            },
            "type": "table"
           }
          ]
         },
         "layout": {
          "annotationdefaults": {
           "arrowcolor": "#2a3f5f",
           "arrowhead": 0,
           "arrowwidth": 1
          },
          "autotypenumbers": "strict",
          "coloraxis": {
           "colorbar": {
            "outlinewidth": 0,
            "ticks": ""
           }
          },
          "colorscale": {
           "diverging": [
            [
             0,
             "#8e0152"
            ],
            [
             0.1,
             "#c51b7d"
            ],
            [
             0.2,
             "#de77ae"
            ],
            [
             0.3,
             "#f1b6da"
            ],
            [
             0.4,
             "#fde0ef"
            ],
            [
             0.5,
             "#f7f7f7"
            ],
            [
             0.6,
             "#e6f5d0"
            ],
            [
             0.7,
             "#b8e186"
            ],
            [
             0.8,
             "#7fbc41"
            ],
            [
             0.9,
             "#4d9221"
            ],
            [
             1,
             "#276419"
            ]
           ],
           "sequential": [
            [
             0,
             "#0d0887"
            ],
            [
             0.1111111111111111,
             "#46039f"
            ],
            [
             0.2222222222222222,
             "#7201a8"
            ],
            [
             0.3333333333333333,
             "#9c179e"
            ],
            [
             0.4444444444444444,
             "#bd3786"
            ],
            [
             0.5555555555555556,
             "#d8576b"
            ],
            [
             0.6666666666666666,
             "#ed7953"
            ],
            [
             0.7777777777777778,
             "#fb9f3a"
            ],
            [
             0.8888888888888888,
             "#fdca26"
            ],
            [
             1,
             "#f0f921"
            ]
           ],
           "sequentialminus": [
            [
             0,
             "#0d0887"
            ],
            [
             0.1111111111111111,
             "#46039f"
            ],
            [
             0.2222222222222222,
             "#7201a8"
            ],
            [
             0.3333333333333333,
             "#9c179e"
            ],
            [
             0.4444444444444444,
             "#bd3786"
            ],
            [
             0.5555555555555556,
             "#d8576b"
            ],
            [
             0.6666666666666666,
             "#ed7953"
            ],
            [
             0.7777777777777778,
             "#fb9f3a"
            ],
            [
             0.8888888888888888,
             "#fdca26"
            ],
            [
             1,
             "#f0f921"
            ]
           ]
          },
          "colorway": [
           "#636efa",
           "#EF553B",
           "#00cc96",
           "#ab63fa",
           "#FFA15A",
           "#19d3f3",
           "#FF6692",
           "#B6E880",
           "#FF97FF",
           "#FECB52"
          ],
          "font": {
           "color": "#2a3f5f"
          },
          "geo": {
           "bgcolor": "white",
           "lakecolor": "white",
           "landcolor": "#E5ECF6",
           "showlakes": true,
           "showland": true,
           "subunitcolor": "white"
          },
          "hoverlabel": {
           "align": "left"
          },
          "hovermode": "closest",
          "mapbox": {
           "style": "light"
          },
          "paper_bgcolor": "white",
          "plot_bgcolor": "#E5ECF6",
          "polar": {
           "angularaxis": {
            "gridcolor": "white",
            "linecolor": "white",
            "ticks": ""
           },
           "bgcolor": "#E5ECF6",
           "radialaxis": {
            "gridcolor": "white",
            "linecolor": "white",
            "ticks": ""
           }
          },
          "scene": {
           "xaxis": {
            "backgroundcolor": "#E5ECF6",
            "gridcolor": "white",
            "gridwidth": 2,
            "linecolor": "white",
            "showbackground": true,
            "ticks": "",
            "zerolinecolor": "white"
           },
           "yaxis": {
            "backgroundcolor": "#E5ECF6",
            "gridcolor": "white",
            "gridwidth": 2,
            "linecolor": "white",
            "showbackground": true,
            "ticks": "",
            "zerolinecolor": "white"
           },
           "zaxis": {
            "backgroundcolor": "#E5ECF6",
            "gridcolor": "white",
            "gridwidth": 2,
            "linecolor": "white",
            "showbackground": true,
            "ticks": "",
            "zerolinecolor": "white"
           }
          },
          "shapedefaults": {
           "line": {
            "color": "#2a3f5f"
           }
          },
          "ternary": {
           "aaxis": {
            "gridcolor": "white",
            "linecolor": "white",
            "ticks": ""
           },
           "baxis": {
            "gridcolor": "white",
            "linecolor": "white",
            "ticks": ""
           },
           "bgcolor": "#E5ECF6",
           "caxis": {
            "gridcolor": "white",
            "linecolor": "white",
            "ticks": ""
           }
          },
          "title": {
           "x": 0.05
          },
          "xaxis": {
           "automargin": true,
           "gridcolor": "white",
           "linecolor": "white",
           "ticks": "",
           "title": {
            "standoff": 15
           },
           "zerolinecolor": "white",
           "zerolinewidth": 2
          },
          "yaxis": {
           "automargin": true,
           "gridcolor": "white",
           "linecolor": "white",
           "ticks": "",
           "title": {
            "standoff": 15
           },
           "zerolinecolor": "white",
           "zerolinewidth": 2
          }
         }
        },
        "width": 1000,
        "xaxis": {
         "anchor": "y",
         "domain": [
          0,
          1
         ]
        },
        "xaxis2": {
         "anchor": "y2",
         "domain": [
          0,
          1
         ]
        },
        "xaxis3": {
         "anchor": "y3",
         "domain": [
          0,
          1
         ]
        },
        "xaxis4": {
         "anchor": "y4",
         "domain": [
          0,
          1
         ]
        },
        "yaxis": {
         "anchor": "x",
         "domain": [
          0.7949999999999999,
          1
         ]
        },
        "yaxis2": {
         "anchor": "x2",
         "domain": [
          0.53,
          0.7350000000000001
         ]
        },
        "yaxis3": {
         "anchor": "x3",
         "domain": [
          0.265,
          0.47000000000000003
         ]
        },
        "yaxis4": {
         "anchor": "x4",
         "domain": [
          0,
          0.20500000000000002
         ]
        }
       }
      }
     },
     "metadata": {},
     "output_type": "display_data"
    }
   ],
   "source": [
    "engine.load_data()\n",
    "engine.run_backtesting()\n",
    "df = engine.calculate_result()\n",
    "engine.calculate_statistics()\n",
    "engine.show_chart()"
   ]
  },
  {
   "cell_type": "code",
   "execution_count": null,
   "metadata": {},
   "outputs": [],
   "source": []
  }
 ],
 "metadata": {
  "kernelspec": {
   "display_name": "vnpy_evo_py3.12",
   "language": "python",
   "name": "python3"
  },
  "language_info": {
   "codemirror_mode": {
    "name": "ipython",
    "version": 3
   },
   "file_extension": ".py",
   "mimetype": "text/x-python",
   "name": "python",
   "nbconvert_exporter": "python",
   "pygments_lexer": "ipython3",
   "version": "3.12.9"
  }
 },
 "nbformat": 4,
 "nbformat_minor": 2
}
