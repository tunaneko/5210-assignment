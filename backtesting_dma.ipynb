{
 "cells": [
  {
   "cell_type": "code",
   "execution_count": 1,
   "metadata": {},
   "outputs": [],
   "source": [
    "from datetime import datetime\n",
    "\n",
    "from vnpy_evo.trader.optimize import OptimizationSetting\n",
    "from vnpy_novastrategy.backtesting import BacktestingEngine\n",
    "from vnpy_novastrategy.strategies.sma_strategy import SmaStrategy\n",
    "from vnpy_novastrategy.strategies.multi_indicator import MultiIndicatorStrategy\n",
    "from vnpy_novastrategy.strategies.dma_vol import DMAVolatilityStrategy\n",
    "from vnpy_evo.trader.constant import Interval"
   ]
  },
  {
   "cell_type": "code",
   "execution_count": 2,
   "metadata": {},
   "outputs": [],
   "source": [
    "engine = BacktestingEngine()\n",
    "engine.set_parameters(\n",
    "    # vt_symbol=\"BTCUSDT.BINANCE\",\n",
    "    interval=Interval.MINUTE,\n",
    "    start=datetime(2024, 1, 1),\n",
    "    end=datetime(2024, 12, 30),\n",
    "    # rate=0.3/10000,\n",
    "    # slippage=0.2,\n",
    "    # size=300,\n",
    "    # pricetick=0.2,\n",
    "    capital=50_000,\n",
    ")\n",
    "engine.add_contract(\"BTC.BINANCE\", 1, 0.1, 0.02, 0.0003, 10)\n",
    "engine.add_strategy(DMAVolatilityStrategy, {})"
   ]
  },
  {
   "cell_type": "code",
   "execution_count": 3,
   "metadata": {},
   "outputs": [
    {
     "name": "stdout",
     "output_type": "stream",
     "text": [
      "2025-05-13 21:20:47.705816\tLoading history data.\n",
      "2025-05-13 21:21:00.516888\tBar data of BTC.BINANCE loaded, total count: 524161.\n",
      "2025-05-13 21:21:00.516888\tHistory data all loaded.\n",
      "2025-05-13 21:21:03.932683\tThe strategy is inited.\n",
      "2025-05-13 21:21:03.932683\tStarting to replay history data.\n"
     ]
    },
    {
     "name": "stderr",
     "output_type": "stream",
     "text": [
      "100%|██████████| 380161/380161 [00:13<00:00, 28118.85it/s]\n"
     ]
    },
    {
     "name": "stdout",
     "output_type": "stream",
     "text": [
      "2025-05-13 21:21:17.477642\tReplaying history data finished.\n",
      "2025-05-13 21:21:17.487893\tCalculating daily PnL.\n",
      "2025-05-13 21:21:17.699661\tCalculation of daily PnL finished.\n",
      "2025-05-13 21:21:17.699661\tCalculating performance statistics.\n",
      "2025-05-13 21:21:17.699661\t------------------------------\n",
      "2025-05-13 21:21:17.699661\tStart Date:\t2024-04-10\n",
      "2025-05-13 21:21:17.699661\tEnd Date:\t2024-12-30\n",
      "2025-05-13 21:21:17.699661\tTotal Days:\t265\n",
      "2025-05-13 21:21:17.699661\tProfit Days:\t133\n",
      "2025-05-13 21:21:17.699661\tLoss Days:\t132\n",
      "2025-05-13 21:21:17.699661\tStart Balance:\t50,000.00\n",
      "2025-05-13 21:21:17.699661\tEnd Balance:\t53,114.16\n",
      "2025-05-13 21:21:17.699661\tTotal Return:\t6.23%\n",
      "2025-05-13 21:21:17.699661\tAnnual Return:\t8.58%\n",
      "2025-05-13 21:21:17.699661\tMax Drawdown: \t-1,715.60\n",
      "2025-05-13 21:21:17.699661\tMax Drawdown(%): -3.27%\n",
      "2025-05-13 21:21:17.699661\tMax Drawdown Duration: \t23\n",
      "2025-05-13 21:21:17.699661\tTotal PnL:\t3,114.16\n",
      "2025-05-13 21:21:17.699661\tTotal Commission:\t361.49\n",
      "2025-05-13 21:21:17.699661\tTotal Slippage:\t183.00\n",
      "2025-05-13 21:21:17.699661\tTotal Turnover:\t1,204,953.14\n",
      "2025-05-13 21:21:17.699661\tTotal Trades:\t380160\n",
      "2025-05-13 21:21:17.699661\tDaily PnL:\t11.75\n",
      "2025-05-13 21:21:17.699661\tDaily Commission:\t1.36\n",
      "2025-05-13 21:21:17.699661\tDaily Slippage:\t0.69\n",
      "2025-05-13 21:21:17.699661\tDaily Turnover:\t4,546.99\n",
      "2025-05-13 21:21:17.699661\tDaily Trades:\t1434.566037735849\n",
      "2025-05-13 21:21:17.699661\tDaily Return:\t0.02%\n",
      "2025-05-13 21:21:17.699661\tReturn Std:\t0.35%\n",
      "2025-05-13 21:21:17.699661\tSharpe Ratio:\t1.35\n",
      "2025-05-13 21:21:17.699661\tReturn Drawdown Ratio:\t1.82\n",
      "2025-05-13 21:21:17.699661\tCalculation of performance statistics finished.\n"
     ]
    },
    {
     "data": {
      "application/vnd.plotly.v1+json": {
       "config": {
        "plotlyServerURL": "https://plot.ly"
       },
       "data": [
        {
         "mode": "lines",
         "name": "Balance",
         "type": "scatter",
         "x": [
          "2024-04-10",
          "2024-04-11",
          "2024-04-12",
          "2024-04-13",
          "2024-04-14",
          "2024-04-15",
          "2024-04-16",
          "2024-04-17",
          "2024-04-18",
          "2024-04-19",
          "2024-04-20",
          "2024-04-21",
          "2024-04-22",
          "2024-04-23",
          "2024-04-24",
          "2024-04-25",
          "2024-04-26",
          "2024-04-27",
          "2024-04-28",
          "2024-04-29",
          "2024-04-30",
          "2024-05-01",
          "2024-05-02",
          "2024-05-03",
          "2024-05-04",
          "2024-05-05",
          "2024-05-06",
          "2024-05-07",
          "2024-05-08",
          "2024-05-09",
          "2024-05-10",
          "2024-05-11",
          "2024-05-12",
          "2024-05-13",
          "2024-05-14",
          "2024-05-15",
          "2024-05-16",
          "2024-05-17",
          "2024-05-18",
          "2024-05-19",
          "2024-05-20",
          "2024-05-21",
          "2024-05-22",
          "2024-05-23",
          "2024-05-24",
          "2024-05-25",
          "2024-05-26",
          "2024-05-27",
          "2024-05-28",
          "2024-05-29",
          "2024-05-30",
          "2024-05-31",
          "2024-06-01",
          "2024-06-02",
          "2024-06-03",
          "2024-06-04",
          "2024-06-05",
          "2024-06-06",
          "2024-06-07",
          "2024-06-08",
          "2024-06-09",
          "2024-06-10",
          "2024-06-11",
          "2024-06-12",
          "2024-06-13",
          "2024-06-14",
          "2024-06-15",
          "2024-06-16",
          "2024-06-17",
          "2024-06-18",
          "2024-06-19",
          "2024-06-20",
          "2024-06-21",
          "2024-06-22",
          "2024-06-23",
          "2024-06-24",
          "2024-06-25",
          "2024-06-26",
          "2024-06-27",
          "2024-06-28",
          "2024-06-29",
          "2024-06-30",
          "2024-07-01",
          "2024-07-02",
          "2024-07-03",
          "2024-07-04",
          "2024-07-05",
          "2024-07-06",
          "2024-07-07",
          "2024-07-08",
          "2024-07-09",
          "2024-07-10",
          "2024-07-11",
          "2024-07-12",
          "2024-07-13",
          "2024-07-14",
          "2024-07-15",
          "2024-07-16",
          "2024-07-17",
          "2024-07-18",
          "2024-07-19",
          "2024-07-20",
          "2024-07-21",
          "2024-07-22",
          "2024-07-23",
          "2024-07-24",
          "2024-07-25",
          "2024-07-26",
          "2024-07-27",
          "2024-07-28",
          "2024-07-29",
          "2024-07-30",
          "2024-07-31",
          "2024-08-01",
          "2024-08-02",
          "2024-08-03",
          "2024-08-04",
          "2024-08-05",
          "2024-08-06",
          "2024-08-07",
          "2024-08-08",
          "2024-08-09",
          "2024-08-10",
          "2024-08-11",
          "2024-08-12",
          "2024-08-13",
          "2024-08-14",
          "2024-08-15",
          "2024-08-16",
          "2024-08-17",
          "2024-08-18",
          "2024-08-19",
          "2024-08-20",
          "2024-08-21",
          "2024-08-22",
          "2024-08-23",
          "2024-08-24",
          "2024-08-25",
          "2024-08-26",
          "2024-08-27",
          "2024-08-28",
          "2024-08-29",
          "2024-08-30",
          "2024-08-31",
          "2024-09-01",
          "2024-09-02",
          "2024-09-03",
          "2024-09-04",
          "2024-09-05",
          "2024-09-06",
          "2024-09-07",
          "2024-09-08",
          "2024-09-09",
          "2024-09-10",
          "2024-09-11",
          "2024-09-12",
          "2024-09-13",
          "2024-09-14",
          "2024-09-15",
          "2024-09-16",
          "2024-09-17",
          "2024-09-18",
          "2024-09-19",
          "2024-09-20",
          "2024-09-21",
          "2024-09-22",
          "2024-09-23",
          "2024-09-24",
          "2024-09-25",
          "2024-09-26",
          "2024-09-27",
          "2024-09-28",
          "2024-09-29",
          "2024-09-30",
          "2024-10-01",
          "2024-10-02",
          "2024-10-03",
          "2024-10-04",
          "2024-10-05",
          "2024-10-06",
          "2024-10-07",
          "2024-10-08",
          "2024-10-09",
          "2024-10-10",
          "2024-10-11",
          "2024-10-12",
          "2024-10-13",
          "2024-10-14",
          "2024-10-15",
          "2024-10-16",
          "2024-10-17",
          "2024-10-18",
          "2024-10-19",
          "2024-10-20",
          "2024-10-21",
          "2024-10-22",
          "2024-10-23",
          "2024-10-24",
          "2024-10-25",
          "2024-10-26",
          "2024-10-27",
          "2024-10-28",
          "2024-10-29",
          "2024-10-30",
          "2024-10-31",
          "2024-11-01",
          "2024-11-02",
          "2024-11-03",
          "2024-11-04",
          "2024-11-05",
          "2024-11-06",
          "2024-11-07",
          "2024-11-08",
          "2024-11-09",
          "2024-11-10",
          "2024-11-11",
          "2024-11-12",
          "2024-11-13",
          "2024-11-14",
          "2024-11-15",
          "2024-11-16",
          "2024-11-17",
          "2024-11-18",
          "2024-11-19",
          "2024-11-20",
          "2024-11-21",
          "2024-11-22",
          "2024-11-23",
          "2024-11-24",
          "2024-11-25",
          "2024-11-26",
          "2024-11-27",
          "2024-11-28",
          "2024-11-29",
          "2024-11-30",
          "2024-12-01",
          "2024-12-02",
          "2024-12-03",
          "2024-12-04",
          "2024-12-05",
          "2024-12-06",
          "2024-12-07",
          "2024-12-08",
          "2024-12-09",
          "2024-12-10",
          "2024-12-11",
          "2024-12-12",
          "2024-12-13",
          "2024-12-14",
          "2024-12-15",
          "2024-12-16",
          "2024-12-17",
          "2024-12-18",
          "2024-12-19",
          "2024-12-20",
          "2024-12-21",
          "2024-12-22",
          "2024-12-23",
          "2024-12-24",
          "2024-12-25",
          "2024-12-26",
          "2024-12-27",
          "2024-12-28",
          "2024-12-29",
          "2024-12-30"
         ],
         "xaxis": "x",
         "y": {
          "bdata": "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",
          "dtype": "f8"
         },
         "yaxis": "y"
        },
        {
         "fill": "tozeroy",
         "fillcolor": "red",
         "mode": "lines",
         "name": "Drawdown",
         "type": "scatter",
         "x": [
          "2024-04-10",
          "2024-04-11",
          "2024-04-12",
          "2024-04-13",
          "2024-04-14",
          "2024-04-15",
          "2024-04-16",
          "2024-04-17",
          "2024-04-18",
          "2024-04-19",
          "2024-04-20",
          "2024-04-21",
          "2024-04-22",
          "2024-04-23",
          "2024-04-24",
          "2024-04-25",
          "2024-04-26",
          "2024-04-27",
          "2024-04-28",
          "2024-04-29",
          "2024-04-30",
          "2024-05-01",
          "2024-05-02",
          "2024-05-03",
          "2024-05-04",
          "2024-05-05",
          "2024-05-06",
          "2024-05-07",
          "2024-05-08",
          "2024-05-09",
          "2024-05-10",
          "2024-05-11",
          "2024-05-12",
          "2024-05-13",
          "2024-05-14",
          "2024-05-15",
          "2024-05-16",
          "2024-05-17",
          "2024-05-18",
          "2024-05-19",
          "2024-05-20",
          "2024-05-21",
          "2024-05-22",
          "2024-05-23",
          "2024-05-24",
          "2024-05-25",
          "2024-05-26",
          "2024-05-27",
          "2024-05-28",
          "2024-05-29",
          "2024-05-30",
          "2024-05-31",
          "2024-06-01",
          "2024-06-02",
          "2024-06-03",
          "2024-06-04",
          "2024-06-05",
          "2024-06-06",
          "2024-06-07",
          "2024-06-08",
          "2024-06-09",
          "2024-06-10",
          "2024-06-11",
          "2024-06-12",
          "2024-06-13",
          "2024-06-14",
          "2024-06-15",
          "2024-06-16",
          "2024-06-17",
          "2024-06-18",
          "2024-06-19",
          "2024-06-20",
          "2024-06-21",
          "2024-06-22",
          "2024-06-23",
          "2024-06-24",
          "2024-06-25",
          "2024-06-26",
          "2024-06-27",
          "2024-06-28",
          "2024-06-29",
          "2024-06-30",
          "2024-07-01",
          "2024-07-02",
          "2024-07-03",
          "2024-07-04",
          "2024-07-05",
          "2024-07-06",
          "2024-07-07",
          "2024-07-08",
          "2024-07-09",
          "2024-07-10",
          "2024-07-11",
          "2024-07-12",
          "2024-07-13",
          "2024-07-14",
          "2024-07-15",
          "2024-07-16",
          "2024-07-17",
          "2024-07-18",
          "2024-07-19",
          "2024-07-20",
          "2024-07-21",
          "2024-07-22",
          "2024-07-23",
          "2024-07-24",
          "2024-07-25",
          "2024-07-26",
          "2024-07-27",
          "2024-07-28",
          "2024-07-29",
          "2024-07-30",
          "2024-07-31",
          "2024-08-01",
          "2024-08-02",
          "2024-08-03",
          "2024-08-04",
          "2024-08-05",
          "2024-08-06",
          "2024-08-07",
          "2024-08-08",
          "2024-08-09",
          "2024-08-10",
          "2024-08-11",
          "2024-08-12",
          "2024-08-13",
          "2024-08-14",
          "2024-08-15",
          "2024-08-16",
          "2024-08-17",
          "2024-08-18",
          "2024-08-19",
          "2024-08-20",
          "2024-08-21",
          "2024-08-22",
          "2024-08-23",
          "2024-08-24",
          "2024-08-25",
          "2024-08-26",
          "2024-08-27",
          "2024-08-28",
          "2024-08-29",
          "2024-08-30",
          "2024-08-31",
          "2024-09-01",
          "2024-09-02",
          "2024-09-03",
          "2024-09-04",
          "2024-09-05",
          "2024-09-06",
          "2024-09-07",
          "2024-09-08",
          "2024-09-09",
          "2024-09-10",
          "2024-09-11",
          "2024-09-12",
          "2024-09-13",
          "2024-09-14",
          "2024-09-15",
          "2024-09-16",
          "2024-09-17",
          "2024-09-18",
          "2024-09-19",
          "2024-09-20",
          "2024-09-21",
          "2024-09-22",
          "2024-09-23",
          "2024-09-24",
          "2024-09-25",
          "2024-09-26",
          "2024-09-27",
          "2024-09-28",
          "2024-09-29",
          "2024-09-30",
          "2024-10-01",
          "2024-10-02",
          "2024-10-03",
          "2024-10-04",
          "2024-10-05",
          "2024-10-06",
          "2024-10-07",
          "2024-10-08",
          "2024-10-09",
          "2024-10-10",
          "2024-10-11",
          "2024-10-12",
          "2024-10-13",
          "2024-10-14",
          "2024-10-15",
          "2024-10-16",
          "2024-10-17",
          "2024-10-18",
          "2024-10-19",
          "2024-10-20",
          "2024-10-21",
          "2024-10-22",
          "2024-10-23",
          "2024-10-24",
          "2024-10-25",
          "2024-10-26",
          "2024-10-27",
          "2024-10-28",
          "2024-10-29",
          "2024-10-30",
          "2024-10-31",
          "2024-11-01",
          "2024-11-02",
          "2024-11-03",
          "2024-11-04",
          "2024-11-05",
          "2024-11-06",
          "2024-11-07",
          "2024-11-08",
          "2024-11-09",
          "2024-11-10",
          "2024-11-11",
          "2024-11-12",
          "2024-11-13",
          "2024-11-14",
          "2024-11-15",
          "2024-11-16",
          "2024-11-17",
          "2024-11-18",
          "2024-11-19",
          "2024-11-20",
          "2024-11-21",
          "2024-11-22",
          "2024-11-23",
          "2024-11-24",
          "2024-11-25",
          "2024-11-26",
          "2024-11-27",
          "2024-11-28",
          "2024-11-29",
          "2024-11-30",
          "2024-12-01",
          "2024-12-02",
          "2024-12-03",
          "2024-12-04",
          "2024-12-05",
          "2024-12-06",
          "2024-12-07",
          "2024-12-08",
          "2024-12-09",
          "2024-12-10",
          "2024-12-11",
          "2024-12-12",
          "2024-12-13",
          "2024-12-14",
          "2024-12-15",
          "2024-12-16",
          "2024-12-17",
          "2024-12-18",
          "2024-12-19",
          "2024-12-20",
          "2024-12-21",
          "2024-12-22",
          "2024-12-23",
          "2024-12-24",
          "2024-12-25",
          "2024-12-26",
          "2024-12-27",
          "2024-12-28",
          "2024-12-29",
          "2024-12-30"
         ],
         "xaxis": "x2",
         "y": {
          "bdata": "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",
          "dtype": "f8"
         },
         "yaxis": "y2"
        },
        {
         "name": "Daily PnL",
         "type": "bar",
         "xaxis": "x3",
         "y": {
          "bdata": "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",
          "dtype": "f8"
         },
         "yaxis": "y3"
        },
        {
         "name": "Days",
         "nbinsx": 100,
         "type": "histogram",
         "x": {
          "bdata": "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",
          "dtype": "f8"
         },
         "xaxis": "x4",
         "yaxis": "y4"
        }
       ],
       "layout": {
        "annotations": [
         {
          "font": {
           "size": 16
          },
          "showarrow": false,
          "text": "Balance",
          "x": 0.5,
          "xanchor": "center",
          "xref": "paper",
          "y": 1,
          "yanchor": "bottom",
          "yref": "paper"
         },
         {
          "font": {
           "size": 16
          },
          "showarrow": false,
          "text": "Drawdown",
          "x": 0.5,
          "xanchor": "center",
          "xref": "paper",
          "y": 0.7350000000000001,
          "yanchor": "bottom",
          "yref": "paper"
         },
         {
          "font": {
           "size": 16
          },
          "showarrow": false,
          "text": "Daily PnL",
          "x": 0.5,
          "xanchor": "center",
          "xref": "paper",
          "y": 0.47000000000000003,
          "yanchor": "bottom",
          "yref": "paper"
         },
         {
          "font": {
           "size": 16
          },
          "showarrow": false,
          "text": "PnL Distribution",
          "x": 0.5,
          "xanchor": "center",
          "xref": "paper",
          "y": 0.20500000000000002,
          "yanchor": "bottom",
          "yref": "paper"
         }
        ],
        "height": 1000,
        "template": {
         "data": {
          "bar": [
           {
            "error_x": {
             "color": "#2a3f5f"
            },
            "error_y": {
             "color": "#2a3f5f"
            },
            "marker": {
             "line": {
              "color": "#E5ECF6",
              "width": 0.5
             },
             "pattern": {
              "fillmode": "overlay",
              "size": 10,
              "solidity": 0.2
             }
            },
            "type": "bar"
           }
          ],
          "barpolar": [
           {
            "marker": {
             "line": {
              "color": "#E5ECF6",
              "width": 0.5
             },
             "pattern": {
              "fillmode": "overlay",
              "size": 10,
              "solidity": 0.2
             }
            },
            "type": "barpolar"
           }
          ],
          "carpet": [
           {
            "aaxis": {
             "endlinecolor": "#2a3f5f",
             "gridcolor": "white",
             "linecolor": "white",
             "minorgridcolor": "white",
             "startlinecolor": "#2a3f5f"
            },
            "baxis": {
             "endlinecolor": "#2a3f5f",
             "gridcolor": "white",
             "linecolor": "white",
             "minorgridcolor": "white",
             "startlinecolor": "#2a3f5f"
            },
            "type": "carpet"
           }
          ],
          "choropleth": [
           {
            "colorbar": {
             "outlinewidth": 0,
             "ticks": ""
            },
            "type": "choropleth"
           }
          ],
          "contour": [
           {
            "colorbar": {
             "outlinewidth": 0,
             "ticks": ""
            },
            "colorscale": [
             [
              0,
              "#0d0887"
             ],
             [
              0.1111111111111111,
              "#46039f"
             ],
             [
              0.2222222222222222,
              "#7201a8"
             ],
             [
              0.3333333333333333,
              "#9c179e"
             ],
             [
              0.4444444444444444,
              "#bd3786"
             ],
             [
              0.5555555555555556,
              "#d8576b"
             ],
             [
              0.6666666666666666,
              "#ed7953"
             ],
             [
              0.7777777777777778,
              "#fb9f3a"
             ],
             [
              0.8888888888888888,
              "#fdca26"
             ],
             [
              1,
              "#f0f921"
             ]
            ],
            "type": "contour"
           }
          ],
          "contourcarpet": [
           {
            "colorbar": {
             "outlinewidth": 0,
             "ticks": ""
            },
            "type": "contourcarpet"
           }
          ],
          "heatmap": [
           {
            "colorbar": {
             "outlinewidth": 0,
             "ticks": ""
            },
            "colorscale": [
             [
              0,
              "#0d0887"
             ],
             [
              0.1111111111111111,
              "#46039f"
             ],
             [
              0.2222222222222222,
              "#7201a8"
             ],
             [
              0.3333333333333333,
              "#9c179e"
             ],
             [
              0.4444444444444444,
              "#bd3786"
             ],
             [
              0.5555555555555556,
              "#d8576b"
             ],
             [
              0.6666666666666666,
              "#ed7953"
             ],
             [
              0.7777777777777778,
              "#fb9f3a"
             ],
             [
              0.8888888888888888,
              "#fdca26"
             ],
             [
              1,
              "#f0f921"
             ]
            ],
            "type": "heatmap"
           }
          ],
          "histogram": [
           {
            "marker": {
             "pattern": {
              "fillmode": "overlay",
              "size": 10,
              "solidity": 0.2
             }
            },
            "type": "histogram"
           }
          ],
          "histogram2d": [
           {
            "colorbar": {
             "outlinewidth": 0,
             "ticks": ""
            },
            "colorscale": [
             [
              0,
              "#0d0887"
             ],
             [
              0.1111111111111111,
              "#46039f"
             ],
             [
              0.2222222222222222,
              "#7201a8"
             ],
             [
              0.3333333333333333,
              "#9c179e"
             ],
             [
              0.4444444444444444,
              "#bd3786"
             ],
             [
              0.5555555555555556,
              "#d8576b"
             ],
             [
              0.6666666666666666,
              "#ed7953"
             ],
             [
              0.7777777777777778,
              "#fb9f3a"
             ],
             [
              0.8888888888888888,
              "#fdca26"
             ],
             [
              1,
              "#f0f921"
             ]
            ],
            "type": "histogram2d"
           }
          ],
          "histogram2dcontour": [
           {
            "colorbar": {
             "outlinewidth": 0,
             "ticks": ""
            },
            "colorscale": [
             [
              0,
              "#0d0887"
             ],
             [
              0.1111111111111111,
              "#46039f"
             ],
             [
              0.2222222222222222,
              "#7201a8"
             ],
             [
              0.3333333333333333,
              "#9c179e"
             ],
             [
              0.4444444444444444,
              "#bd3786"
             ],
             [
              0.5555555555555556,
              "#d8576b"
             ],
             [
              0.6666666666666666,
              "#ed7953"
             ],
             [
              0.7777777777777778,
              "#fb9f3a"
             ],
             [
              0.8888888888888888,
              "#fdca26"
             ],
             [
              1,
              "#f0f921"
             ]
            ],
            "type": "histogram2dcontour"
           }
          ],
          "mesh3d": [
           {
            "colorbar": {
             "outlinewidth": 0,
             "ticks": ""
            },
            "type": "mesh3d"
           }
          ],
          "parcoords": [
           {
            "line": {
             "colorbar": {
              "outlinewidth": 0,
              "ticks": ""
             }
            },
            "type": "parcoords"
           }
          ],
          "pie": [
           {
            "automargin": true,
            "type": "pie"
           }
          ],
          "scatter": [
           {
            "fillpattern": {
             "fillmode": "overlay",
             "size": 10,
             "solidity": 0.2
            },
            "type": "scatter"
           }
          ],
          "scatter3d": [
           {
            "line": {
             "colorbar": {
              "outlinewidth": 0,
              "ticks": ""
             }
            },
            "marker": {
             "colorbar": {
              "outlinewidth": 0,
              "ticks": ""
             }
            },
            "type": "scatter3d"
           }
          ],
          "scattercarpet": [
           {
            "marker": {
             "colorbar": {
              "outlinewidth": 0,
              "ticks": ""
             }
            },
            "type": "scattercarpet"
           }
          ],
          "scattergeo": [
           {
            "marker": {
             "colorbar": {
              "outlinewidth": 0,
              "ticks": ""
             }
            },
            "type": "scattergeo"
           }
          ],
          "scattergl": [
           {
            "marker": {
             "colorbar": {
              "outlinewidth": 0,
              "ticks": ""
             }
            },
            "type": "scattergl"
           }
          ],
          "scattermap": [
           {
            "marker": {
             "colorbar": {
              "outlinewidth": 0,
              "ticks": ""
             }
            },
            "type": "scattermap"
           }
          ],
          "scattermapbox": [
           {
            "marker": {
             "colorbar": {
              "outlinewidth": 0,
              "ticks": ""
             }
            },
            "type": "scattermapbox"
           }
          ],
          "scatterpolar": [
           {
            "marker": {
             "colorbar": {
              "outlinewidth": 0,
              "ticks": ""
             }
            },
            "type": "scatterpolar"
           }
          ],
          "scatterpolargl": [
           {
            "marker": {
             "colorbar": {
              "outlinewidth": 0,
              "ticks": ""
             }
            },
            "type": "scatterpolargl"
           }
          ],
          "scatterternary": [
           {
            "marker": {
             "colorbar": {
              "outlinewidth": 0,
              "ticks": ""
             }
            },
            "type": "scatterternary"
           }
          ],
          "surface": [
           {
            "colorbar": {
             "outlinewidth": 0,
             "ticks": ""
            },
            "colorscale": [
             [
              0,
              "#0d0887"
             ],
             [
              0.1111111111111111,
              "#46039f"
             ],
             [
              0.2222222222222222,
              "#7201a8"
             ],
             [
              0.3333333333333333,
              "#9c179e"
             ],
             [
              0.4444444444444444,
              "#bd3786"
             ],
             [
              0.5555555555555556,
              "#d8576b"
             ],
             [
              0.6666666666666666,
              "#ed7953"
             ],
             [
              0.7777777777777778,
              "#fb9f3a"
             ],
             [
              0.8888888888888888,
              "#fdca26"
             ],
             [
              1,
              "#f0f921"
             ]
            ],
            "type": "surface"
           }
          ],
          "table": [
           {
            "cells": {
             "fill": {
              "color": "#EBF0F8"
             },
             "line": {
              "color": "white"
             }
            },
            "header": {
             "fill": {
              "color": "#C8D4E3"
             },
             "line": {
              "color": "white"
             }
            },
            "type": "table"
           }
          ]
         },
         "layout": {
          "annotationdefaults": {
           "arrowcolor": "#2a3f5f",
           "arrowhead": 0,
           "arrowwidth": 1
          },
          "autotypenumbers": "strict",
          "coloraxis": {
           "colorbar": {
            "outlinewidth": 0,
            "ticks": ""
           }
          },
          "colorscale": {
           "diverging": [
            [
             0,
             "#8e0152"
            ],
            [
             0.1,
             "#c51b7d"
            ],
            [
             0.2,
             "#de77ae"
            ],
            [
             0.3,
             "#f1b6da"
            ],
            [
             0.4,
             "#fde0ef"
            ],
            [
             0.5,
             "#f7f7f7"
            ],
            [
             0.6,
             "#e6f5d0"
            ],
            [
             0.7,
             "#b8e186"
            ],
            [
             0.8,
             "#7fbc41"
            ],
            [
             0.9,
             "#4d9221"
            ],
            [
             1,
             "#276419"
            ]
           ],
           "sequential": [
            [
             0,
             "#0d0887"
            ],
            [
             0.1111111111111111,
             "#46039f"
            ],
            [
             0.2222222222222222,
             "#7201a8"
            ],
            [
             0.3333333333333333,
             "#9c179e"
            ],
            [
             0.4444444444444444,
             "#bd3786"
            ],
            [
             0.5555555555555556,
             "#d8576b"
            ],
            [
             0.6666666666666666,
             "#ed7953"
            ],
            [
             0.7777777777777778,
             "#fb9f3a"
            ],
            [
             0.8888888888888888,
             "#fdca26"
            ],
            [
             1,
             "#f0f921"
            ]
           ],
           "sequentialminus": [
            [
             0,
             "#0d0887"
            ],
            [
             0.1111111111111111,
             "#46039f"
            ],
            [
             0.2222222222222222,
             "#7201a8"
            ],
            [
             0.3333333333333333,
             "#9c179e"
            ],
            [
             0.4444444444444444,
             "#bd3786"
            ],
            [
             0.5555555555555556,
             "#d8576b"
            ],
            [
             0.6666666666666666,
             "#ed7953"
            ],
            [
             0.7777777777777778,
             "#fb9f3a"
            ],
            [
             0.8888888888888888,
             "#fdca26"
            ],
            [
             1,
             "#f0f921"
            ]
           ]
          },
          "colorway": [
           "#636efa",
           "#EF553B",
           "#00cc96",
           "#ab63fa",
           "#FFA15A",
           "#19d3f3",
           "#FF6692",
           "#B6E880",
           "#FF97FF",
           "#FECB52"
          ],
          "font": {
           "color": "#2a3f5f"
          },
          "geo": {
           "bgcolor": "white",
           "lakecolor": "white",
           "landcolor": "#E5ECF6",
           "showlakes": true,
           "showland": true,
           "subunitcolor": "white"
          },
          "hoverlabel": {
           "align": "left"
          },
          "hovermode": "closest",
          "mapbox": {
           "style": "light"
          },
          "paper_bgcolor": "white",
          "plot_bgcolor": "#E5ECF6",
          "polar": {
           "angularaxis": {
            "gridcolor": "white",
            "linecolor": "white",
            "ticks": ""
           },
           "bgcolor": "#E5ECF6",
           "radialaxis": {
            "gridcolor": "white",
            "linecolor": "white",
            "ticks": ""
           }
          },
          "scene": {
           "xaxis": {
            "backgroundcolor": "#E5ECF6",
            "gridcolor": "white",
            "gridwidth": 2,
            "linecolor": "white",
            "showbackground": true,
            "ticks": "",
            "zerolinecolor": "white"
           },
           "yaxis": {
            "backgroundcolor": "#E5ECF6",
            "gridcolor": "white",
            "gridwidth": 2,
            "linecolor": "white",
            "showbackground": true,
            "ticks": "",
            "zerolinecolor": "white"
           },
           "zaxis": {
            "backgroundcolor": "#E5ECF6",
            "gridcolor": "white",
            "gridwidth": 2,
            "linecolor": "white",
            "showbackground": true,
            "ticks": "",
            "zerolinecolor": "white"
           }
          },
          "shapedefaults": {
           "line": {
            "color": "#2a3f5f"
           }
          },
          "ternary": {
           "aaxis": {
            "gridcolor": "white",
            "linecolor": "white",
            "ticks": ""
           },
           "baxis": {
            "gridcolor": "white",
            "linecolor": "white",
            "ticks": ""
           },
           "bgcolor": "#E5ECF6",
           "caxis": {
            "gridcolor": "white",
            "linecolor": "white",
            "ticks": ""
           }
          },
          "title": {
           "x": 0.05
          },
          "xaxis": {
           "automargin": true,
           "gridcolor": "white",
           "linecolor": "white",
           "ticks": "",
           "title": {
            "standoff": 15
           },
           "zerolinecolor": "white",
           "zerolinewidth": 2
          },
          "yaxis": {
           "automargin": true,
           "gridcolor": "white",
           "linecolor": "white",
           "ticks": "",
           "title": {
            "standoff": 15
           },
           "zerolinecolor": "white",
           "zerolinewidth": 2
          }
         }
        },
        "width": 1000,
        "xaxis": {
         "anchor": "y",
         "domain": [
          0,
          1
         ]
        },
        "xaxis2": {
         "anchor": "y2",
         "domain": [
          0,
          1
         ]
        },
        "xaxis3": {
         "anchor": "y3",
         "domain": [
          0,
          1
         ]
        },
        "xaxis4": {
         "anchor": "y4",
         "domain": [
          0,
          1
         ]
        },
        "yaxis": {
         "anchor": "x",
         "domain": [
          0.7949999999999999,
          1
         ]
        },
        "yaxis2": {
         "anchor": "x2",
         "domain": [
          0.53,
          0.7350000000000001
         ]
        },
        "yaxis3": {
         "anchor": "x3",
         "domain": [
          0.265,
          0.47000000000000003
         ]
        },
        "yaxis4": {
         "anchor": "x4",
         "domain": [
          0,
          0.20500000000000002
         ]
        }
       }
      }
     },
     "metadata": {},
     "output_type": "display_data"
    }
   ],
   "source": [
    "engine.load_data()\n",
    "engine.run_backtesting()\n",
    "df = engine.calculate_result()\n",
    "engine.calculate_statistics()\n",
    "engine.show_chart()"
   ]
  }
 ],
 "metadata": {
  "kernelspec": {
   "display_name": "vnpy_evo_py3.12",
   "language": "python",
   "name": "python3"
  },
  "language_info": {
   "codemirror_mode": {
    "name": "ipython",
    "version": 3
   },
   "file_extension": ".py",
   "mimetype": "text/x-python",
   "name": "python",
   "nbconvert_exporter": "python",
   "pygments_lexer": "ipython3",
   "version": "3.12.9"
  }
 },
 "nbformat": 4,
 "nbformat_minor": 2
}
