{
 "cells": [
  {
   "cell_type": "code",
   "execution_count": 1,
   "metadata": {},
   "outputs": [],
   "source": [
    "from datetime import datetime\n",
    "\n",
    "from vnpy_evo.trader.optimize import OptimizationSetting\n",
    "from vnpy_novastrategy.backtesting import BacktestingEngine\n",
    "from vnpy_novastrategy.strategies.macd import MACDStrategy\n",
    "from vnpy_evo.trader.constant import Interval"
   ]
  },
  {
   "cell_type": "code",
   "execution_count": 2,
   "metadata": {},
   "outputs": [],
   "source": [
    "engine = BacktestingEngine()\n",
    "engine.set_parameters(\n",
    "    # vt_symbol=\"BTCUSDT.BINANCE\",\n",
    "    interval=Interval.MINUTE,\n",
    "    start=datetime(2024, 1, 1),\n",
    "    end=datetime(2024, 12, 30),\n",
    "    # rate=0.3/10000,\n",
    "    # slippage=0.2,\n",
    "    # size=300,\n",
    "    # pricetick=0.2,\n",
    "    capital=50_000,\n",
    ")\n",
    "engine.add_contract(\"BTC.BINANCE\", 1, 0.1, 0.02, 0.0003, 10)\n",
    "engine.add_strategy(MACDStrategy, {})"
   ]
  },
  {
   "cell_type": "code",
   "execution_count": 3,
   "metadata": {},
   "outputs": [
    {
     "name": "stdout",
     "output_type": "stream",
     "text": [
      "2025-05-13 21:22:01.146227\tLoading history data.\n",
      "2025-05-13 21:22:13.920019\tBar data of BTC.BINANCE loaded, total count: 524161.\n",
      "2025-05-13 21:22:13.920019\tHistory data all loaded.\n",
      "2025-05-13 21:22:17.463268\tThe strategy is inited.\n",
      "2025-05-13 21:22:17.463268\tStarting to replay history data.\n"
     ]
    },
    {
     "name": "stderr",
     "output_type": "stream",
     "text": [
      "100%|██████████| 380161/380161 [00:13<00:00, 27204.26it/s]\n"
     ]
    },
    {
     "name": "stdout",
     "output_type": "stream",
     "text": [
      "2025-05-13 21:22:31.463475\tReplaying history data finished.\n",
      "2025-05-13 21:22:31.480764\tCalculating daily PnL.\n",
      "2025-05-13 21:22:31.696813\tCalculation of daily PnL finished.\n",
      "2025-05-13 21:22:31.696813\tCalculating performance statistics.\n",
      "2025-05-13 21:22:31.696813\t------------------------------\n",
      "2025-05-13 21:22:31.696813\tStart Date:\t2024-04-10\n",
      "2025-05-13 21:22:31.696813\tEnd Date:\t2024-12-30\n",
      "2025-05-13 21:22:31.696813\tTotal Days:\t265\n",
      "2025-05-13 21:22:31.696813\tProfit Days:\t134\n",
      "2025-05-13 21:22:31.696813\tLoss Days:\t128\n",
      "2025-05-13 21:22:31.696813\tStart Balance:\t50,000.00\n",
      "2025-05-13 21:22:31.696813\tEnd Balance:\t53,112.97\n",
      "2025-05-13 21:22:31.696813\tTotal Return:\t6.23%\n",
      "2025-05-13 21:22:31.696813\tAnnual Return:\t8.58%\n",
      "2025-05-13 21:22:31.696813\tMax Drawdown: \t-2,040.91\n",
      "2025-05-13 21:22:31.696813\tMax Drawdown(%): -3.99%\n",
      "2025-05-13 21:22:31.696813\tMax Drawdown Duration: \t109\n",
      "2025-05-13 21:22:31.696813\tTotal PnL:\t3,112.97\n",
      "2025-05-13 21:22:31.696813\tTotal Commission:\t23.80\n",
      "2025-05-13 21:22:31.696813\tTotal Slippage:\t13.00\n",
      "2025-05-13 21:22:31.696813\tTotal Turnover:\t79,347.52\n",
      "2025-05-13 21:22:31.696813\tTotal Trades:\t380160\n",
      "2025-05-13 21:22:31.696813\tDaily PnL:\t11.75\n",
      "2025-05-13 21:22:31.696813\tDaily Commission:\t0.09\n",
      "2025-05-13 21:22:31.696813\tDaily Slippage:\t0.05\n",
      "2025-05-13 21:22:31.696813\tDaily Turnover:\t299.42\n",
      "2025-05-13 21:22:31.696813\tDaily Trades:\t1434.566037735849\n",
      "2025-05-13 21:22:31.696813\tDaily Return:\t0.02%\n",
      "2025-05-13 21:22:31.696813\tReturn Std:\t0.37%\n",
      "2025-05-13 21:22:31.696813\tSharpe Ratio:\t1.17\n",
      "2025-05-13 21:22:31.696813\tReturn Drawdown Ratio:\t1.53\n",
      "2025-05-13 21:22:31.696813\tCalculation of performance statistics finished.\n"
     ]
    },
    {
     "data": {
      "application/vnd.plotly.v1+json": {
       "config": {
        "plotlyServerURL": "https://plot.ly"
       },
       "data": [
        {
         "mode": "lines",
         "name": "Balance",
         "type": "scatter",
         "x": [
          "2024-04-10",
          "2024-04-11",
          "2024-04-12",
          "2024-04-13",
          "2024-04-14",
          "2024-04-15",
          "2024-04-16",
          "2024-04-17",
          "2024-04-18",
          "2024-04-19",
          "2024-04-20",
          "2024-04-21",
          "2024-04-22",
          "2024-04-23",
          "2024-04-24",
          "2024-04-25",
          "2024-04-26",
          "2024-04-27",
          "2024-04-28",
          "2024-04-29",
          "2024-04-30",
          "2024-05-01",
          "2024-05-02",
          "2024-05-03",
          "2024-05-04",
          "2024-05-05",
          "2024-05-06",
          "2024-05-07",
          "2024-05-08",
          "2024-05-09",
          "2024-05-10",
          "2024-05-11",
          "2024-05-12",
          "2024-05-13",
          "2024-05-14",
          "2024-05-15",
          "2024-05-16",
          "2024-05-17",
          "2024-05-18",
          "2024-05-19",
          "2024-05-20",
          "2024-05-21",
          "2024-05-22",
          "2024-05-23",
          "2024-05-24",
          "2024-05-25",
          "2024-05-26",
          "2024-05-27",
          "2024-05-28",
          "2024-05-29",
          "2024-05-30",
          "2024-05-31",
          "2024-06-01",
          "2024-06-02",
          "2024-06-03",
          "2024-06-04",
          "2024-06-05",
          "2024-06-06",
          "2024-06-07",
          "2024-06-08",
          "2024-06-09",
          "2024-06-10",
          "2024-06-11",
          "2024-06-12",
          "2024-06-13",
          "2024-06-14",
          "2024-06-15",
          "2024-06-16",
          "2024-06-17",
          "2024-06-18",
          "2024-06-19",
          "2024-06-20",
          "2024-06-21",
          "2024-06-22",
          "2024-06-23",
          "2024-06-24",
          "2024-06-25",
          "2024-06-26",
          "2024-06-27",
          "2024-06-28",
          "2024-06-29",
          "2024-06-30",
          "2024-07-01",
          "2024-07-02",
          "2024-07-03",
          "2024-07-04",
          "2024-07-05",
          "2024-07-06",
          "2024-07-07",
          "2024-07-08",
          "2024-07-09",
          "2024-07-10",
          "2024-07-11",
          "2024-07-12",
          "2024-07-13",
          "2024-07-14",
          "2024-07-15",
          "2024-07-16",
          "2024-07-17",
          "2024-07-18",
          "2024-07-19",
          "2024-07-20",
          "2024-07-21",
          "2024-07-22",
          "2024-07-23",
          "2024-07-24",
          "2024-07-25",
          "2024-07-26",
          "2024-07-27",
          "2024-07-28",
          "2024-07-29",
          "2024-07-30",
          "2024-07-31",
          "2024-08-01",
          "2024-08-02",
          "2024-08-03",
          "2024-08-04",
          "2024-08-05",
          "2024-08-06",
          "2024-08-07",
          "2024-08-08",
          "2024-08-09",
          "2024-08-10",
          "2024-08-11",
          "2024-08-12",
          "2024-08-13",
          "2024-08-14",
          "2024-08-15",
          "2024-08-16",
          "2024-08-17",
          "2024-08-18",
          "2024-08-19",
          "2024-08-20",
          "2024-08-21",
          "2024-08-22",
          "2024-08-23",
          "2024-08-24",
          "2024-08-25",
          "2024-08-26",
          "2024-08-27",
          "2024-08-28",
          "2024-08-29",
          "2024-08-30",
          "2024-08-31",
          "2024-09-01",
          "2024-09-02",
          "2024-09-03",
          "2024-09-04",
          "2024-09-05",
          "2024-09-06",
          "2024-09-07",
          "2024-09-08",
          "2024-09-09",
          "2024-09-10",
          "2024-09-11",
          "2024-09-12",
          "2024-09-13",
          "2024-09-14",
          "2024-09-15",
          "2024-09-16",
          "2024-09-17",
          "2024-09-18",
          "2024-09-19",
          "2024-09-20",
          "2024-09-21",
          "2024-09-22",
          "2024-09-23",
          "2024-09-24",
          "2024-09-25",
          "2024-09-26",
          "2024-09-27",
          "2024-09-28",
          "2024-09-29",
          "2024-09-30",
          "2024-10-01",
          "2024-10-02",
          "2024-10-03",
          "2024-10-04",
          "2024-10-05",
          "2024-10-06",
          "2024-10-07",
          "2024-10-08",
          "2024-10-09",
          "2024-10-10",
          "2024-10-11",
          "2024-10-12",
          "2024-10-13",
          "2024-10-14",
          "2024-10-15",
          "2024-10-16",
          "2024-10-17",
          "2024-10-18",
          "2024-10-19",
          "2024-10-20",
          "2024-10-21",
          "2024-10-22",
          "2024-10-23",
          "2024-10-24",
          "2024-10-25",
          "2024-10-26",
          "2024-10-27",
          "2024-10-28",
          "2024-10-29",
          "2024-10-30",
          "2024-10-31",
          "2024-11-01",
          "2024-11-02",
          "2024-11-03",
          "2024-11-04",
          "2024-11-05",
          "2024-11-06",
          "2024-11-07",
          "2024-11-08",
          "2024-11-09",
          "2024-11-10",
          "2024-11-11",
          "2024-11-12",
          "2024-11-13",
          "2024-11-14",
          "2024-11-15",
          "2024-11-16",
          "2024-11-17",
          "2024-11-18",
          "2024-11-19",
          "2024-11-20",
          "2024-11-21",
          "2024-11-22",
          "2024-11-23",
          "2024-11-24",
          "2024-11-25",
          "2024-11-26",
          "2024-11-27",
          "2024-11-28",
          "2024-11-29",
          "2024-11-30",
          "2024-12-01",
          "2024-12-02",
          "2024-12-03",
          "2024-12-04",
          "2024-12-05",
          "2024-12-06",
          "2024-12-07",
          "2024-12-08",
          "2024-12-09",
          "2024-12-10",
          "2024-12-11",
          "2024-12-12",
          "2024-12-13",
          "2024-12-14",
          "2024-12-15",
          "2024-12-16",
          "2024-12-17",
          "2024-12-18",
          "2024-12-19",
          "2024-12-20",
          "2024-12-21",
          "2024-12-22",
          "2024-12-23",
          "2024-12-24",
          "2024-12-25",
          "2024-12-26",
          "2024-12-27",
          "2024-12-28",
          "2024-12-29",
          "2024-12-30"
         ],
         "xaxis": "x",
         "y": {
          "bdata": "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",
          "dtype": "f8"
         },
         "yaxis": "y"
        },
        {
         "fill": "tozeroy",
         "fillcolor": "red",
         "mode": "lines",
         "name": "Drawdown",
         "type": "scatter",
         "x": [
          "2024-04-10",
          "2024-04-11",
          "2024-04-12",
          "2024-04-13",
          "2024-04-14",
          "2024-04-15",
          "2024-04-16",
          "2024-04-17",
          "2024-04-18",
          "2024-04-19",
          "2024-04-20",
          "2024-04-21",
          "2024-04-22",
          "2024-04-23",
          "2024-04-24",
          "2024-04-25",
          "2024-04-26",
          "2024-04-27",
          "2024-04-28",
          "2024-04-29",
          "2024-04-30",
          "2024-05-01",
          "2024-05-02",
          "2024-05-03",
          "2024-05-04",
          "2024-05-05",
          "2024-05-06",
          "2024-05-07",
          "2024-05-08",
          "2024-05-09",
          "2024-05-10",
          "2024-05-11",
          "2024-05-12",
          "2024-05-13",
          "2024-05-14",
          "2024-05-15",
          "2024-05-16",
          "2024-05-17",
          "2024-05-18",
          "2024-05-19",
          "2024-05-20",
          "2024-05-21",
          "2024-05-22",
          "2024-05-23",
          "2024-05-24",
          "2024-05-25",
          "2024-05-26",
          "2024-05-27",
          "2024-05-28",
          "2024-05-29",
          "2024-05-30",
          "2024-05-31",
          "2024-06-01",
          "2024-06-02",
          "2024-06-03",
          "2024-06-04",
          "2024-06-05",
          "2024-06-06",
          "2024-06-07",
          "2024-06-08",
          "2024-06-09",
          "2024-06-10",
          "2024-06-11",
          "2024-06-12",
          "2024-06-13",
          "2024-06-14",
          "2024-06-15",
          "2024-06-16",
          "2024-06-17",
          "2024-06-18",
          "2024-06-19",
          "2024-06-20",
          "2024-06-21",
          "2024-06-22",
          "2024-06-23",
          "2024-06-24",
          "2024-06-25",
          "2024-06-26",
          "2024-06-27",
          "2024-06-28",
          "2024-06-29",
          "2024-06-30",
          "2024-07-01",
          "2024-07-02",
          "2024-07-03",
          "2024-07-04",
          "2024-07-05",
          "2024-07-06",
          "2024-07-07",
          "2024-07-08",
          "2024-07-09",
          "2024-07-10",
          "2024-07-11",
          "2024-07-12",
          "2024-07-13",
          "2024-07-14",
          "2024-07-15",
          "2024-07-16",
          "2024-07-17",
          "2024-07-18",
          "2024-07-19",
          "2024-07-20",
          "2024-07-21",
          "2024-07-22",
          "2024-07-23",
          "2024-07-24",
          "2024-07-25",
          "2024-07-26",
          "2024-07-27",
          "2024-07-28",
          "2024-07-29",
          "2024-07-30",
          "2024-07-31",
          "2024-08-01",
          "2024-08-02",
          "2024-08-03",
          "2024-08-04",
          "2024-08-05",
          "2024-08-06",
          "2024-08-07",
          "2024-08-08",
          "2024-08-09",
          "2024-08-10",
          "2024-08-11",
          "2024-08-12",
          "2024-08-13",
          "2024-08-14",
          "2024-08-15",
          "2024-08-16",
          "2024-08-17",
          "2024-08-18",
          "2024-08-19",
          "2024-08-20",
          "2024-08-21",
          "2024-08-22",
          "2024-08-23",
          "2024-08-24",
          "2024-08-25",
          "2024-08-26",
          "2024-08-27",
          "2024-08-28",
          "2024-08-29",
          "2024-08-30",
          "2024-08-31",
          "2024-09-01",
          "2024-09-02",
          "2024-09-03",
          "2024-09-04",
          "2024-09-05",
          "2024-09-06",
          "2024-09-07",
          "2024-09-08",
          "2024-09-09",
          "2024-09-10",
          "2024-09-11",
          "2024-09-12",
          "2024-09-13",
          "2024-09-14",
          "2024-09-15",
          "2024-09-16",
          "2024-09-17",
          "2024-09-18",
          "2024-09-19",
          "2024-09-20",
          "2024-09-21",
          "2024-09-22",
          "2024-09-23",
          "2024-09-24",
          "2024-09-25",
          "2024-09-26",
          "2024-09-27",
          "2024-09-28",
          "2024-09-29",
          "2024-09-30",
          "2024-10-01",
          "2024-10-02",
          "2024-10-03",
          "2024-10-04",
          "2024-10-05",
          "2024-10-06",
          "2024-10-07",
          "2024-10-08",
          "2024-10-09",
          "2024-10-10",
          "2024-10-11",
          "2024-10-12",
          "2024-10-13",
          "2024-10-14",
          "2024-10-15",
          "2024-10-16",
          "2024-10-17",
          "2024-10-18",
          "2024-10-19",
          "2024-10-20",
          "2024-10-21",
          "2024-10-22",
          "2024-10-23",
          "2024-10-24",
          "2024-10-25",
          "2024-10-26",
          "2024-10-27",
          "2024-10-28",
          "2024-10-29",
          "2024-10-30",
          "2024-10-31",
          "2024-11-01",
          "2024-11-02",
          "2024-11-03",
          "2024-11-04",
          "2024-11-05",
          "2024-11-06",
          "2024-11-07",
          "2024-11-08",
          "2024-11-09",
          "2024-11-10",
          "2024-11-11",
          "2024-11-12",
          "2024-11-13",
          "2024-11-14",
          "2024-11-15",
          "2024-11-16",
          "2024-11-17",
          "2024-11-18",
          "2024-11-19",
          "2024-11-20",
          "2024-11-21",
          "2024-11-22",
          "2024-11-23",
          "2024-11-24",
          "2024-11-25",
          "2024-11-26",
          "2024-11-27",
          "2024-11-28",
          "2024-11-29",
          "2024-11-30",
          "2024-12-01",
          "2024-12-02",
          "2024-12-03",
          "2024-12-04",
          "2024-12-05",
          "2024-12-06",
          "2024-12-07",
          "2024-12-08",
          "2024-12-09",
          "2024-12-10",
          "2024-12-11",
          "2024-12-12",
          "2024-12-13",
          "2024-12-14",
          "2024-12-15",
          "2024-12-16",
          "2024-12-17",
          "2024-12-18",
          "2024-12-19",
          "2024-12-20",
          "2024-12-21",
          "2024-12-22",
          "2024-12-23",
          "2024-12-24",
          "2024-12-25",
          "2024-12-26",
          "2024-12-27",
          "2024-12-28",
          "2024-12-29",
          "2024-12-30"
         ],
         "xaxis": "x2",
         "y": {
          "bdata": "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",
          "dtype": "f8"
         },
         "yaxis": "y2"
        },
        {
         "name": "Daily PnL",
         "type": "bar",
         "xaxis": "x3",
         "y": {
          "bdata": "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",
          "dtype": "f8"
         },
         "yaxis": "y3"
        },
        {
         "name": "Days",
         "nbinsx": 100,
         "type": "histogram",
         "x": {
          "bdata": "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",
          "dtype": "f8"
         },
         "xaxis": "x4",
         "yaxis": "y4"
        }
       ],
       "layout": {
        "annotations": [
         {
          "font": {
           "size": 16
          },
          "showarrow": false,
          "text": "Balance",
          "x": 0.5,
          "xanchor": "center",
          "xref": "paper",
          "y": 1,
          "yanchor": "bottom",
          "yref": "paper"
         },
         {
          "font": {
           "size": 16
          },
          "showarrow": false,
          "text": "Drawdown",
          "x": 0.5,
          "xanchor": "center",
          "xref": "paper",
          "y": 0.7350000000000001,
          "yanchor": "bottom",
          "yref": "paper"
         },
         {
          "font": {
           "size": 16
          },
          "showarrow": false,
          "text": "Daily PnL",
          "x": 0.5,
          "xanchor": "center",
          "xref": "paper",
          "y": 0.47000000000000003,
          "yanchor": "bottom",
          "yref": "paper"
         },
         {
          "font": {
           "size": 16
          },
          "showarrow": false,
          "text": "PnL Distribution",
          "x": 0.5,
          "xanchor": "center",
          "xref": "paper",
          "y": 0.20500000000000002,
          "yanchor": "bottom",
          "yref": "paper"
         }
        ],
        "height": 1000,
        "template": {
         "data": {
          "bar": [
           {
            "error_x": {
             "color": "#2a3f5f"
            },
            "error_y": {
             "color": "#2a3f5f"
            },
            "marker": {
             "line": {
              "color": "#E5ECF6",
              "width": 0.5
             },
             "pattern": {
              "fillmode": "overlay",
              "size": 10,
              "solidity": 0.2
             }
            },
            "type": "bar"
           }
          ],
          "barpolar": [
           {
            "marker": {
             "line": {
              "color": "#E5ECF6",
              "width": 0.5
             },
             "pattern": {
              "fillmode": "overlay",
              "size": 10,
              "solidity": 0.2
             }
            },
            "type": "barpolar"
           }
          ],
          "carpet": [
           {
            "aaxis": {
             "endlinecolor": "#2a3f5f",
             "gridcolor": "white",
             "linecolor": "white",
             "minorgridcolor": "white",
             "startlinecolor": "#2a3f5f"
            },
            "baxis": {
             "endlinecolor": "#2a3f5f",
             "gridcolor": "white",
             "linecolor": "white",
             "minorgridcolor": "white",
             "startlinecolor": "#2a3f5f"
            },
            "type": "carpet"
           }
          ],
          "choropleth": [
           {
            "colorbar": {
             "outlinewidth": 0,
             "ticks": ""
            },
            "type": "choropleth"
           }
          ],
          "contour": [
           {
            "colorbar": {
             "outlinewidth": 0,
             "ticks": ""
            },
            "colorscale": [
             [
              0,
              "#0d0887"
             ],
             [
              0.1111111111111111,
              "#46039f"
             ],
             [
              0.2222222222222222,
              "#7201a8"
             ],
             [
              0.3333333333333333,
              "#9c179e"
             ],
             [
              0.4444444444444444,
              "#bd3786"
             ],
             [
              0.5555555555555556,
              "#d8576b"
             ],
             [
              0.6666666666666666,
              "#ed7953"
             ],
             [
              0.7777777777777778,
              "#fb9f3a"
             ],
             [
              0.8888888888888888,
              "#fdca26"
             ],
             [
              1,
              "#f0f921"
             ]
            ],
            "type": "contour"
           }
          ],
          "contourcarpet": [
           {
            "colorbar": {
             "outlinewidth": 0,
             "ticks": ""
            },
            "type": "contourcarpet"
           }
          ],
          "heatmap": [
           {
            "colorbar": {
             "outlinewidth": 0,
             "ticks": ""
            },
            "colorscale": [
             [
              0,
              "#0d0887"
             ],
             [
              0.1111111111111111,
              "#46039f"
             ],
             [
              0.2222222222222222,
              "#7201a8"
             ],
             [
              0.3333333333333333,
              "#9c179e"
             ],
             [
              0.4444444444444444,
              "#bd3786"
             ],
             [
              0.5555555555555556,
              "#d8576b"
             ],
             [
              0.6666666666666666,
              "#ed7953"
             ],
             [
              0.7777777777777778,
              "#fb9f3a"
             ],
             [
              0.8888888888888888,
              "#fdca26"
             ],
             [
              1,
              "#f0f921"
             ]
            ],
            "type": "heatmap"
           }
          ],
          "histogram": [
           {
            "marker": {
             "pattern": {
              "fillmode": "overlay",
              "size": 10,
              "solidity": 0.2
             }
            },
            "type": "histogram"
           }
          ],
          "histogram2d": [
           {
            "colorbar": {
             "outlinewidth": 0,
             "ticks": ""
            },
            "colorscale": [
             [
              0,
              "#0d0887"
             ],
             [
              0.1111111111111111,
              "#46039f"
             ],
             [
              0.2222222222222222,
              "#7201a8"
             ],
             [
              0.3333333333333333,
              "#9c179e"
             ],
             [
              0.4444444444444444,
              "#bd3786"
             ],
             [
              0.5555555555555556,
              "#d8576b"
             ],
             [
              0.6666666666666666,
              "#ed7953"
             ],
             [
              0.7777777777777778,
              "#fb9f3a"
             ],
             [
              0.8888888888888888,
              "#fdca26"
             ],
             [
              1,
              "#f0f921"
             ]
            ],
            "type": "histogram2d"
           }
          ],
          "histogram2dcontour": [
           {
            "colorbar": {
             "outlinewidth": 0,
             "ticks": ""
            },
            "colorscale": [
             [
              0,
              "#0d0887"
             ],
             [
              0.1111111111111111,
              "#46039f"
             ],
             [
              0.2222222222222222,
              "#7201a8"
             ],
             [
              0.3333333333333333,
              "#9c179e"
             ],
             [
              0.4444444444444444,
              "#bd3786"
             ],
             [
              0.5555555555555556,
              "#d8576b"
             ],
             [
              0.6666666666666666,
              "#ed7953"
             ],
             [
              0.7777777777777778,
              "#fb9f3a"
             ],
             [
              0.8888888888888888,
              "#fdca26"
             ],
             [
              1,
              "#f0f921"
             ]
            ],
            "type": "histogram2dcontour"
           }
          ],
          "mesh3d": [
           {
            "colorbar": {
             "outlinewidth": 0,
             "ticks": ""
            },
            "type": "mesh3d"
           }
          ],
          "parcoords": [
           {
            "line": {
             "colorbar": {
              "outlinewidth": 0,
              "ticks": ""
             }
            },
            "type": "parcoords"
           }
          ],
          "pie": [
           {
            "automargin": true,
            "type": "pie"
           }
          ],
          "scatter": [
           {
            "fillpattern": {
             "fillmode": "overlay",
             "size": 10,
             "solidity": 0.2
            },
            "type": "scatter"
           }
          ],
          "scatter3d": [
           {
            "line": {
             "colorbar": {
              "outlinewidth": 0,
              "ticks": ""
             }
            },
            "marker": {
             "colorbar": {
              "outlinewidth": 0,
              "ticks": ""
             }
            },
            "type": "scatter3d"
           }
          ],
          "scattercarpet": [
           {
            "marker": {
             "colorbar": {
              "outlinewidth": 0,
              "ticks": ""
             }
            },
            "type": "scattercarpet"
           }
          ],
          "scattergeo": [
           {
            "marker": {
             "colorbar": {
              "outlinewidth": 0,
              "ticks": ""
             }
            },
            "type": "scattergeo"
           }
          ],
          "scattergl": [
           {
            "marker": {
             "colorbar": {
              "outlinewidth": 0,
              "ticks": ""
             }
            },
            "type": "scattergl"
           }
          ],
          "scattermap": [
           {
            "marker": {
             "colorbar": {
              "outlinewidth": 0,
              "ticks": ""
             }
            },
            "type": "scattermap"
           }
          ],
          "scattermapbox": [
           {
            "marker": {
             "colorbar": {
              "outlinewidth": 0,
              "ticks": ""
             }
            },
            "type": "scattermapbox"
           }
          ],
          "scatterpolar": [
           {
            "marker": {
             "colorbar": {
              "outlinewidth": 0,
              "ticks": ""
             }
            },
            "type": "scatterpolar"
           }
          ],
          "scatterpolargl": [
           {
            "marker": {
             "colorbar": {
              "outlinewidth": 0,
              "ticks": ""
             }
            },
            "type": "scatterpolargl"
           }
          ],
          "scatterternary": [
           {
            "marker": {
             "colorbar": {
              "outlinewidth": 0,
              "ticks": ""
             }
            },
            "type": "scatterternary"
           }
          ],
          "surface": [
           {
            "colorbar": {
             "outlinewidth": 0,
             "ticks": ""
            },
            "colorscale": [
             [
              0,
              "#0d0887"
             ],
             [
              0.1111111111111111,
              "#46039f"
             ],
             [
              0.2222222222222222,
              "#7201a8"
             ],
             [
              0.3333333333333333,
              "#9c179e"
             ],
             [
              0.4444444444444444,
              "#bd3786"
             ],
             [
              0.5555555555555556,
              "#d8576b"
             ],
             [
              0.6666666666666666,
              "#ed7953"
             ],
             [
              0.7777777777777778,
              "#fb9f3a"
             ],
             [
              0.8888888888888888,
              "#fdca26"
             ],
             [
              1,
              "#f0f921"
             ]
            ],
            "type": "surface"
           }
          ],
          "table": [
           {
            "cells": {
             "fill": {
              "color": "#EBF0F8"
             },
             "line": {
              "color": "white"
             }
            },
            "header": {
             "fill": {
              "color": "#C8D4E3"
             },
             "line": {
              "color": "white"
             }
            },
            "type": "table"
           }
          ]
         },
         "layout": {
          "annotationdefaults": {
           "arrowcolor": "#2a3f5f",
           "arrowhead": 0,
           "arrowwidth": 1
          },
          "autotypenumbers": "strict",
          "coloraxis": {
           "colorbar": {
            "outlinewidth": 0,
            "ticks": ""
           }
          },
          "colorscale": {
           "diverging": [
            [
             0,
             "#8e0152"
            ],
            [
             0.1,
             "#c51b7d"
            ],
            [
             0.2,
             "#de77ae"
            ],
            [
             0.3,
             "#f1b6da"
            ],
            [
             0.4,
             "#fde0ef"
            ],
            [
             0.5,
             "#f7f7f7"
            ],
            [
             0.6,
             "#e6f5d0"
            ],
            [
             0.7,
             "#b8e186"
            ],
            [
             0.8,
             "#7fbc41"
            ],
            [
             0.9,
             "#4d9221"
            ],
            [
             1,
             "#276419"
            ]
           ],
           "sequential": [
            [
             0,
             "#0d0887"
            ],
            [
             0.1111111111111111,
             "#46039f"
            ],
            [
             0.2222222222222222,
             "#7201a8"
            ],
            [
             0.3333333333333333,
             "#9c179e"
            ],
            [
             0.4444444444444444,
             "#bd3786"
            ],
            [
             0.5555555555555556,
             "#d8576b"
            ],
            [
             0.6666666666666666,
             "#ed7953"
            ],
            [
             0.7777777777777778,
             "#fb9f3a"
            ],
            [
             0.8888888888888888,
             "#fdca26"
            ],
            [
             1,
             "#f0f921"
            ]
           ],
           "sequentialminus": [
            [
             0,
             "#0d0887"
            ],
            [
             0.1111111111111111,
             "#46039f"
            ],
            [
             0.2222222222222222,
             "#7201a8"
            ],
            [
             0.3333333333333333,
             "#9c179e"
            ],
            [
             0.4444444444444444,
             "#bd3786"
            ],
            [
             0.5555555555555556,
             "#d8576b"
            ],
            [
             0.6666666666666666,
             "#ed7953"
            ],
            [
             0.7777777777777778,
             "#fb9f3a"
            ],
            [
             0.8888888888888888,
             "#fdca26"
            ],
            [
             1,
             "#f0f921"
            ]
           ]
          },
          "colorway": [
           "#636efa",
           "#EF553B",
           "#00cc96",
           "#ab63fa",
           "#FFA15A",
           "#19d3f3",
           "#FF6692",
           "#B6E880",
           "#FF97FF",
           "#FECB52"
          ],
          "font": {
           "color": "#2a3f5f"
          },
          "geo": {
           "bgcolor": "white",
           "lakecolor": "white",
           "landcolor": "#E5ECF6",
           "showlakes": true,
           "showland": true,
           "subunitcolor": "white"
          },
          "hoverlabel": {
           "align": "left"
          },
          "hovermode": "closest",
          "mapbox": {
           "style": "light"
          },
          "paper_bgcolor": "white",
          "plot_bgcolor": "#E5ECF6",
          "polar": {
           "angularaxis": {
            "gridcolor": "white",
            "linecolor": "white",
            "ticks": ""
           },
           "bgcolor": "#E5ECF6",
           "radialaxis": {
            "gridcolor": "white",
            "linecolor": "white",
            "ticks": ""
           }
          },
          "scene": {
           "xaxis": {
            "backgroundcolor": "#E5ECF6",
            "gridcolor": "white",
            "gridwidth": 2,
            "linecolor": "white",
            "showbackground": true,
            "ticks": "",
            "zerolinecolor": "white"
           },
           "yaxis": {
            "backgroundcolor": "#E5ECF6",
            "gridcolor": "white",
            "gridwidth": 2,
            "linecolor": "white",
            "showbackground": true,
            "ticks": "",
            "zerolinecolor": "white"
           },
           "zaxis": {
            "backgroundcolor": "#E5ECF6",
            "gridcolor": "white",
            "gridwidth": 2,
            "linecolor": "white",
            "showbackground": true,
            "ticks": "",
            "zerolinecolor": "white"
           }
          },
          "shapedefaults": {
           "line": {
            "color": "#2a3f5f"
           }
          },
          "ternary": {
           "aaxis": {
            "gridcolor": "white",
            "linecolor": "white",
            "ticks": ""
           },
           "baxis": {
            "gridcolor": "white",
            "linecolor": "white",
            "ticks": ""
           },
           "bgcolor": "#E5ECF6",
           "caxis": {
            "gridcolor": "white",
            "linecolor": "white",
            "ticks": ""
           }
          },
          "title": {
           "x": 0.05
          },
          "xaxis": {
           "automargin": true,
           "gridcolor": "white",
           "linecolor": "white",
           "ticks": "",
           "title": {
            "standoff": 15
           },
           "zerolinecolor": "white",
           "zerolinewidth": 2
          },
          "yaxis": {
           "automargin": true,
           "gridcolor": "white",
           "linecolor": "white",
           "ticks": "",
           "title": {
            "standoff": 15
           },
           "zerolinecolor": "white",
           "zerolinewidth": 2
          }
         }
        },
        "width": 1000,
        "xaxis": {
         "anchor": "y",
         "domain": [
          0,
          1
         ]
        },
        "xaxis2": {
         "anchor": "y2",
         "domain": [
          0,
          1
         ]
        },
        "xaxis3": {
         "anchor": "y3",
         "domain": [
          0,
          1
         ]
        },
        "xaxis4": {
         "anchor": "y4",
         "domain": [
          0,
          1
         ]
        },
        "yaxis": {
         "anchor": "x",
         "domain": [
          0.7949999999999999,
          1
         ]
        },
        "yaxis2": {
         "anchor": "x2",
         "domain": [
          0.53,
          0.7350000000000001
         ]
        },
        "yaxis3": {
         "anchor": "x3",
         "domain": [
          0.265,
          0.47000000000000003
         ]
        },
        "yaxis4": {
         "anchor": "x4",
         "domain": [
          0,
          0.20500000000000002
         ]
        }
       }
      }
     },
     "metadata": {},
     "output_type": "display_data"
    }
   ],
   "source": [
    "engine.load_data()\n",
    "engine.run_backtesting()\n",
    "df = engine.calculate_result()\n",
    "engine.calculate_statistics()\n",
    "engine.show_chart()"
   ]
  },
  {
   "cell_type": "code",
   "execution_count": null,
   "metadata": {},
   "outputs": [],
   "source": []
  },
  {
   "cell_type": "code",
   "execution_count": null,
   "metadata": {},
   "outputs": [],
   "source": []
  }
 ],
 "metadata": {
  "kernelspec": {
   "display_name": "vnpy_evo_py3.12",
   "language": "python",
   "name": "python3"
  },
  "language_info": {
   "codemirror_mode": {
    "name": "ipython",
    "version": 3
   },
   "file_extension": ".py",
   "mimetype": "text/x-python",
   "name": "python",
   "nbconvert_exporter": "python",
   "pygments_lexer": "ipython3",
   "version": "3.12.9"
  }
 },
 "nbformat": 4,
 "nbformat_minor": 2
}
