{
 "cells": [
  {
   "cell_type": "code",
   "execution_count": 6,
   "metadata": {},
   "outputs": [],
   "source": [
    "from datetime import datetime\n",
    "\n",
    "from vnpy_evo.trader.optimize import OptimizationSetting\n",
    "from vnpy_novastrategy.backtesting import BacktestingEngine\n",
    "from vnpy_novastrategy.strategies.reverse import KDJStrategy\n",
    "from vnpy_evo.trader.constant import Interval"
   ]
  },
  {
   "cell_type": "code",
   "execution_count": 7,
   "metadata": {},
   "outputs": [],
   "source": [
    "engine = BacktestingEngine()\n",
    "engine.set_parameters(\n",
    "    # vt_symbol=\"BTCUSDT.BINANCE\",\n",
    "    interval=Interval.MINUTE,\n",
    "    start=datetime(2024, 1, 1),\n",
    "    end=datetime(2024, 12, 30),\n",
    "    # rate=0.3/10000,\n",
    "    # slippage=0.2,\n",
    "    # size=300,\n",
    "    # pricetick=0.2,\n",
    "    capital=50_000,\n",
    ")\n",
    "engine.add_contract(\"BTC.BINANCE\", 1, 0.1, 0.2, 0.001, 10)\n",
    "engine.add_strategy(KDJStrategy, {})"
   ]
  },
  {
   "cell_type": "code",
   "execution_count": 8,
   "metadata": {},
   "outputs": [
    {
     "name": "stdout",
     "output_type": "stream",
     "text": [
      "2025-05-14 19:11:52.021878\tLoading history data.\n",
      "2025-05-14 19:11:53.043779\tBar data of BTC.BINANCE loaded, total count: 524161.\n",
      "2025-05-14 19:11:53.043779\tHistory data all loaded.\n",
      "2025-05-14 19:11:57.361277\tThe strategy is inited.\n",
      "2025-05-14 19:11:57.361277\tStarting to replay history data.\n"
     ]
    },
    {
     "name": "stderr",
     "output_type": "stream",
     "text": [
      " 25%|██▌       | 95843/380161 [00:04<00:12, 22512.47it/s]d:\\anaconda3\\envs\\vnpy_evo_py3.12\\Lib\\site-packages\\vnpy_novastrategy\\strategies\\reverse.py:114: RuntimeWarning:\n",
      "\n",
      "invalid value encountered in scalar divide\n",
      "\n",
      "d:\\anaconda3\\envs\\vnpy_evo_py3.12\\Lib\\site-packages\\vnpy_novastrategy\\strategies\\reverse.py:115: RuntimeWarning:\n",
      "\n",
      "invalid value encountered in scalar divide\n",
      "\n",
      "100%|██████████| 380161/380161 [00:17<00:00, 21705.62it/s]\n"
     ]
    },
    {
     "name": "stdout",
     "output_type": "stream",
     "text": [
      "2025-05-14 19:12:14.898529\tReplaying history data finished.\n",
      "2025-05-14 19:12:14.917719\tCalculating daily PnL.\n",
      "2025-05-14 19:12:15.167231\tCalculation of daily PnL finished.\n",
      "2025-05-14 19:12:15.167231\tCalculating performance statistics.\n",
      "2025-05-14 19:12:15.173416\t------------------------------\n",
      "2025-05-14 19:12:15.173416\tStart Date:\t2024-04-10\n",
      "2025-05-14 19:12:15.173416\tEnd Date:\t2024-12-30\n",
      "2025-05-14 19:12:15.173416\tTotal Days:\t265\n",
      "2025-05-14 19:12:15.173416\tProfit Days:\t131\n",
      "2025-05-14 19:12:15.173416\tLoss Days:\t133\n",
      "2025-05-14 19:12:15.173416\tStart Balance:\t50,000.00\n",
      "2025-05-14 19:12:15.173416\tEnd Balance:\t53,132.58\n",
      "2025-05-14 19:12:15.173416\tTotal Return:\t6.27%\n",
      "2025-05-14 19:12:15.173416\tAnnual Return:\t8.63%\n",
      "2025-05-14 19:12:15.173416\tMax Drawdown: \t-1,316.83\n",
      "2025-05-14 19:12:15.173416\tMax Drawdown(%): -2.60%\n",
      "2025-05-14 19:12:15.173416\tMax Drawdown Duration: \t24\n",
      "2025-05-14 19:12:15.173416\tTotal PnL:\t3,132.58\n",
      "2025-05-14 19:12:15.173416\tTotal Commission:\t583.06\n",
      "2025-05-14 19:12:15.173416\tTotal Slippage:\t89.00\n",
      "2025-05-14 19:12:15.173416\tTotal Turnover:\t583,059.19\n",
      "2025-05-14 19:12:15.173416\tTotal Trades:\t380160\n",
      "2025-05-14 19:12:15.173416\tDaily PnL:\t11.82\n",
      "2025-05-14 19:12:15.173416\tDaily Commission:\t2.20\n",
      "2025-05-14 19:12:15.173416\tDaily Slippage:\t0.34\n",
      "2025-05-14 19:12:15.173416\tDaily Turnover:\t2,200.22\n",
      "2025-05-14 19:12:15.173416\tDaily Trades:\t1434.566037735849\n",
      "2025-05-14 19:12:15.173416\tDaily Return:\t0.02%\n",
      "2025-05-14 19:12:15.173416\tReturn Std:\t0.35%\n",
      "2025-05-14 19:12:15.173416\tSharpe Ratio:\t1.24\n",
      "2025-05-14 19:12:15.173416\tReturn Drawdown Ratio:\t2.38\n",
      "2025-05-14 19:12:15.173416\tCalculation of performance statistics finished.\n"
     ]
    },
    {
     "data": {
      "application/vnd.plotly.v1+json": {
       "config": {
        "plotlyServerURL": "https://plot.ly"
       },
       "data": [
        {
         "mode": "lines",
         "name": "Balance",
         "type": "scatter",
         "x": [
          "2024-04-10",
          "2024-04-11",
          "2024-04-12",
          "2024-04-13",
          "2024-04-14",
          "2024-04-15",
          "2024-04-16",
          "2024-04-17",
          "2024-04-18",
          "2024-04-19",
          "2024-04-20",
          "2024-04-21",
          "2024-04-22",
          "2024-04-23",
          "2024-04-24",
          "2024-04-25",
          "2024-04-26",
          "2024-04-27",
          "2024-04-28",
          "2024-04-29",
          "2024-04-30",
          "2024-05-01",
          "2024-05-02",
          "2024-05-03",
          "2024-05-04",
          "2024-05-05",
          "2024-05-06",
          "2024-05-07",
          "2024-05-08",
          "2024-05-09",
          "2024-05-10",
          "2024-05-11",
          "2024-05-12",
          "2024-05-13",
          "2024-05-14",
          "2024-05-15",
          "2024-05-16",
          "2024-05-17",
          "2024-05-18",
          "2024-05-19",
          "2024-05-20",
          "2024-05-21",
          "2024-05-22",
          "2024-05-23",
          "2024-05-24",
          "2024-05-25",
          "2024-05-26",
          "2024-05-27",
          "2024-05-28",
          "2024-05-29",
          "2024-05-30",
          "2024-05-31",
          "2024-06-01",
          "2024-06-02",
          "2024-06-03",
          "2024-06-04",
          "2024-06-05",
          "2024-06-06",
          "2024-06-07",
          "2024-06-08",
          "2024-06-09",
          "2024-06-10",
          "2024-06-11",
          "2024-06-12",
          "2024-06-13",
          "2024-06-14",
          "2024-06-15",
          "2024-06-16",
          "2024-06-17",
          "2024-06-18",
          "2024-06-19",
          "2024-06-20",
          "2024-06-21",
          "2024-06-22",
          "2024-06-23",
          "2024-06-24",
          "2024-06-25",
          "2024-06-26",
          "2024-06-27",
          "2024-06-28",
          "2024-06-29",
          "2024-06-30",
          "2024-07-01",
          "2024-07-02",
          "2024-07-03",
          "2024-07-04",
          "2024-07-05",
          "2024-07-06",
          "2024-07-07",
          "2024-07-08",
          "2024-07-09",
          "2024-07-10",
          "2024-07-11",
          "2024-07-12",
          "2024-07-13",
          "2024-07-14",
          "2024-07-15",
          "2024-07-16",
          "2024-07-17",
          "2024-07-18",
          "2024-07-19",
          "2024-07-20",
          "2024-07-21",
          "2024-07-22",
          "2024-07-23",
          "2024-07-24",
          "2024-07-25",
          "2024-07-26",
          "2024-07-27",
          "2024-07-28",
          "2024-07-29",
          "2024-07-30",
          "2024-07-31",
          "2024-08-01",
          "2024-08-02",
          "2024-08-03",
          "2024-08-04",
          "2024-08-05",
          "2024-08-06",
          "2024-08-07",
          "2024-08-08",
          "2024-08-09",
          "2024-08-10",
          "2024-08-11",
          "2024-08-12",
          "2024-08-13",
          "2024-08-14",
          "2024-08-15",
          "2024-08-16",
          "2024-08-17",
          "2024-08-18",
          "2024-08-19",
          "2024-08-20",
          "2024-08-21",
          "2024-08-22",
          "2024-08-23",
          "2024-08-24",
          "2024-08-25",
          "2024-08-26",
          "2024-08-27",
          "2024-08-28",
          "2024-08-29",
          "2024-08-30",
          "2024-08-31",
          "2024-09-01",
          "2024-09-02",
          "2024-09-03",
          "2024-09-04",
          "2024-09-05",
          "2024-09-06",
          "2024-09-07",
          "2024-09-08",
          "2024-09-09",
          "2024-09-10",
          "2024-09-11",
          "2024-09-12",
          "2024-09-13",
          "2024-09-14",
          "2024-09-15",
          "2024-09-16",
          "2024-09-17",
          "2024-09-18",
          "2024-09-19",
          "2024-09-20",
          "2024-09-21",
          "2024-09-22",
          "2024-09-23",
          "2024-09-24",
          "2024-09-25",
          "2024-09-26",
          "2024-09-27",
          "2024-09-28",
          "2024-09-29",
          "2024-09-30",
          "2024-10-01",
          "2024-10-02",
          "2024-10-03",
          "2024-10-04",
          "2024-10-05",
          "2024-10-06",
          "2024-10-07",
          "2024-10-08",
          "2024-10-09",
          "2024-10-10",
          "2024-10-11",
          "2024-10-12",
          "2024-10-13",
          "2024-10-14",
          "2024-10-15",
          "2024-10-16",
          "2024-10-17",
          "2024-10-18",
          "2024-10-19",
          "2024-10-20",
          "2024-10-21",
          "2024-10-22",
          "2024-10-23",
          "2024-10-24",
          "2024-10-25",
          "2024-10-26",
          "2024-10-27",
          "2024-10-28",
          "2024-10-29",
          "2024-10-30",
          "2024-10-31",
          "2024-11-01",
          "2024-11-02",
          "2024-11-03",
          "2024-11-04",
          "2024-11-05",
          "2024-11-06",
          "2024-11-07",
          "2024-11-08",
          "2024-11-09",
          "2024-11-10",
          "2024-11-11",
          "2024-11-12",
          "2024-11-13",
          "2024-11-14",
          "2024-11-15",
          "2024-11-16",
          "2024-11-17",
          "2024-11-18",
          "2024-11-19",
          "2024-11-20",
          "2024-11-21",
          "2024-11-22",
          "2024-11-23",
          "2024-11-24",
          "2024-11-25",
          "2024-11-26",
          "2024-11-27",
          "2024-11-28",
          "2024-11-29",
          "2024-11-30",
          "2024-12-01",
          "2024-12-02",
          "2024-12-03",
          "2024-12-04",
          "2024-12-05",
          "2024-12-06",
          "2024-12-07",
          "2024-12-08",
          "2024-12-09",
          "2024-12-10",
          "2024-12-11",
          "2024-12-12",
          "2024-12-13",
          "2024-12-14",
          "2024-12-15",
          "2024-12-16",
          "2024-12-17",
          "2024-12-18",
          "2024-12-19",
          "2024-12-20",
          "2024-12-21",
          "2024-12-22",
          "2024-12-23",
          "2024-12-24",
          "2024-12-25",
          "2024-12-26",
          "2024-12-27",
          "2024-12-28",
          "2024-12-29",
          "2024-12-30"
         ],
         "xaxis": "x",
         "y": {
          "bdata": "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",
          "dtype": "f8"
         },
         "yaxis": "y"
        },
        {
         "fill": "tozeroy",
         "fillcolor": "red",
         "mode": "lines",
         "name": "Drawdown",
         "type": "scatter",
         "x": [
          "2024-04-10",
          "2024-04-11",
          "2024-04-12",
          "2024-04-13",
          "2024-04-14",
          "2024-04-15",
          "2024-04-16",
          "2024-04-17",
          "2024-04-18",
          "2024-04-19",
          "2024-04-20",
          "2024-04-21",
          "2024-04-22",
          "2024-04-23",
          "2024-04-24",
          "2024-04-25",
          "2024-04-26",
          "2024-04-27",
          "2024-04-28",
          "2024-04-29",
          "2024-04-30",
          "2024-05-01",
          "2024-05-02",
          "2024-05-03",
          "2024-05-04",
          "2024-05-05",
          "2024-05-06",
          "2024-05-07",
          "2024-05-08",
          "2024-05-09",
          "2024-05-10",
          "2024-05-11",
          "2024-05-12",
          "2024-05-13",
          "2024-05-14",
          "2024-05-15",
          "2024-05-16",
          "2024-05-17",
          "2024-05-18",
          "2024-05-19",
          "2024-05-20",
          "2024-05-21",
          "2024-05-22",
          "2024-05-23",
          "2024-05-24",
          "2024-05-25",
          "2024-05-26",
          "2024-05-27",
          "2024-05-28",
          "2024-05-29",
          "2024-05-30",
          "2024-05-31",
          "2024-06-01",
          "2024-06-02",
          "2024-06-03",
          "2024-06-04",
          "2024-06-05",
          "2024-06-06",
          "2024-06-07",
          "2024-06-08",
          "2024-06-09",
          "2024-06-10",
          "2024-06-11",
          "2024-06-12",
          "2024-06-13",
          "2024-06-14",
          "2024-06-15",
          "2024-06-16",
          "2024-06-17",
          "2024-06-18",
          "2024-06-19",
          "2024-06-20",
          "2024-06-21",
          "2024-06-22",
          "2024-06-23",
          "2024-06-24",
          "2024-06-25",
          "2024-06-26",
          "2024-06-27",
          "2024-06-28",
          "2024-06-29",
          "2024-06-30",
          "2024-07-01",
          "2024-07-02",
          "2024-07-03",
          "2024-07-04",
          "2024-07-05",
          "2024-07-06",
          "2024-07-07",
          "2024-07-08",
          "2024-07-09",
          "2024-07-10",
          "2024-07-11",
          "2024-07-12",
          "2024-07-13",
          "2024-07-14",
          "2024-07-15",
          "2024-07-16",
          "2024-07-17",
          "2024-07-18",
          "2024-07-19",
          "2024-07-20",
          "2024-07-21",
          "2024-07-22",
          "2024-07-23",
          "2024-07-24",
          "2024-07-25",
          "2024-07-26",
          "2024-07-27",
          "2024-07-28",
          "2024-07-29",
          "2024-07-30",
          "2024-07-31",
          "2024-08-01",
          "2024-08-02",
          "2024-08-03",
          "2024-08-04",
          "2024-08-05",
          "2024-08-06",
          "2024-08-07",
          "2024-08-08",
          "2024-08-09",
          "2024-08-10",
          "2024-08-11",
          "2024-08-12",
          "2024-08-13",
          "2024-08-14",
          "2024-08-15",
          "2024-08-16",
          "2024-08-17",
          "2024-08-18",
          "2024-08-19",
          "2024-08-20",
          "2024-08-21",
          "2024-08-22",
          "2024-08-23",
          "2024-08-24",
          "2024-08-25",
          "2024-08-26",
          "2024-08-27",
          "2024-08-28",
          "2024-08-29",
          "2024-08-30",
          "2024-08-31",
          "2024-09-01",
          "2024-09-02",
          "2024-09-03",
          "2024-09-04",
          "2024-09-05",
          "2024-09-06",
          "2024-09-07",
          "2024-09-08",
          "2024-09-09",
          "2024-09-10",
          "2024-09-11",
          "2024-09-12",
          "2024-09-13",
          "2024-09-14",
          "2024-09-15",
          "2024-09-16",
          "2024-09-17",
          "2024-09-18",
          "2024-09-19",
          "2024-09-20",
          "2024-09-21",
          "2024-09-22",
          "2024-09-23",
          "2024-09-24",
          "2024-09-25",
          "2024-09-26",
          "2024-09-27",
          "2024-09-28",
          "2024-09-29",
          "2024-09-30",
          "2024-10-01",
          "2024-10-02",
          "2024-10-03",
          "2024-10-04",
          "2024-10-05",
          "2024-10-06",
          "2024-10-07",
          "2024-10-08",
          "2024-10-09",
          "2024-10-10",
          "2024-10-11",
          "2024-10-12",
          "2024-10-13",
          "2024-10-14",
          "2024-10-15",
          "2024-10-16",
          "2024-10-17",
          "2024-10-18",
          "2024-10-19",
          "2024-10-20",
          "2024-10-21",
          "2024-10-22",
          "2024-10-23",
          "2024-10-24",
          "2024-10-25",
          "2024-10-26",
          "2024-10-27",
          "2024-10-28",
          "2024-10-29",
          "2024-10-30",
          "2024-10-31",
          "2024-11-01",
          "2024-11-02",
          "2024-11-03",
          "2024-11-04",
          "2024-11-05",
          "2024-11-06",
          "2024-11-07",
          "2024-11-08",
          "2024-11-09",
          "2024-11-10",
          "2024-11-11",
          "2024-11-12",
          "2024-11-13",
          "2024-11-14",
          "2024-11-15",
          "2024-11-16",
          "2024-11-17",
          "2024-11-18",
          "2024-11-19",
          "2024-11-20",
          "2024-11-21",
          "2024-11-22",
          "2024-11-23",
          "2024-11-24",
          "2024-11-25",
          "2024-11-26",
          "2024-11-27",
          "2024-11-28",
          "2024-11-29",
          "2024-11-30",
          "2024-12-01",
          "2024-12-02",
          "2024-12-03",
          "2024-12-04",
          "2024-12-05",
          "2024-12-06",
          "2024-12-07",
          "2024-12-08",
          "2024-12-09",
          "2024-12-10",
          "2024-12-11",
          "2024-12-12",
          "2024-12-13",
          "2024-12-14",
          "2024-12-15",
          "2024-12-16",
          "2024-12-17",
          "2024-12-18",
          "2024-12-19",
          "2024-12-20",
          "2024-12-21",
          "2024-12-22",
          "2024-12-23",
          "2024-12-24",
          "2024-12-25",
          "2024-12-26",
          "2024-12-27",
          "2024-12-28",
          "2024-12-29",
          "2024-12-30"
         ],
         "xaxis": "x2",
         "y": {
          "bdata": "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",
          "dtype": "f8"
         },
         "yaxis": "y2"
        },
        {
         "name": "Daily PnL",
         "type": "bar",
         "xaxis": "x3",
         "y": {
          "bdata": "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",
          "dtype": "f8"
         },
         "yaxis": "y3"
        },
        {
         "name": "Days",
         "nbinsx": 100,
         "type": "histogram",
         "x": {
          "bdata": "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",
          "dtype": "f8"
         },
         "xaxis": "x4",
         "yaxis": "y4"
        }
       ],
       "layout": {
        "annotations": [
         {
          "font": {
           "size": 16
          },
          "showarrow": false,
          "text": "Balance",
          "x": 0.5,
          "xanchor": "center",
          "xref": "paper",
          "y": 1,
          "yanchor": "bottom",
          "yref": "paper"
         },
         {
          "font": {
           "size": 16
          },
          "showarrow": false,
          "text": "Drawdown",
          "x": 0.5,
          "xanchor": "center",
          "xref": "paper",
          "y": 0.7350000000000001,
          "yanchor": "bottom",
          "yref": "paper"
         },
         {
          "font": {
           "size": 16
          },
          "showarrow": false,
          "text": "Daily PnL",
          "x": 0.5,
          "xanchor": "center",
          "xref": "paper",
          "y": 0.47000000000000003,
          "yanchor": "bottom",
          "yref": "paper"
         },
         {
          "font": {
           "size": 16
          },
          "showarrow": false,
          "text": "PnL Distribution",
          "x": 0.5,
          "xanchor": "center",
          "xref": "paper",
          "y": 0.20500000000000002,
          "yanchor": "bottom",
          "yref": "paper"
         }
        ],
        "height": 1000,
        "template": {
         "data": {
          "bar": [
           {
            "error_x": {
             "color": "#2a3f5f"
            },
            "error_y": {
             "color": "#2a3f5f"
            },
            "marker": {
             "line": {
              "color": "#E5ECF6",
              "width": 0.5
             },
             "pattern": {
              "fillmode": "overlay",
              "size": 10,
              "solidity": 0.2
             }
            },
            "type": "bar"
           }
          ],
          "barpolar": [
           {
            "marker": {
             "line": {
              "color": "#E5ECF6",
              "width": 0.5
             },
             "pattern": {
              "fillmode": "overlay",
              "size": 10,
              "solidity": 0.2
             }
            },
            "type": "barpolar"
           }
          ],
          "carpet": [
           {
            "aaxis": {
             "endlinecolor": "#2a3f5f",
             "gridcolor": "white",
             "linecolor": "white",
             "minorgridcolor": "white",
             "startlinecolor": "#2a3f5f"
            },
            "baxis": {
             "endlinecolor": "#2a3f5f",
             "gridcolor": "white",
             "linecolor": "white",
             "minorgridcolor": "white",
             "startlinecolor": "#2a3f5f"
            },
            "type": "carpet"
           }
          ],
          "choropleth": [
           {
            "colorbar": {
             "outlinewidth": 0,
             "ticks": ""
            },
            "type": "choropleth"
           }
          ],
          "contour": [
           {
            "colorbar": {
             "outlinewidth": 0,
             "ticks": ""
            },
            "colorscale": [
             [
              0,
              "#0d0887"
             ],
             [
              0.1111111111111111,
              "#46039f"
             ],
             [
              0.2222222222222222,
              "#7201a8"
             ],
             [
              0.3333333333333333,
              "#9c179e"
             ],
             [
              0.4444444444444444,
              "#bd3786"
             ],
             [
              0.5555555555555556,
              "#d8576b"
             ],
             [
              0.6666666666666666,
              "#ed7953"
             ],
             [
              0.7777777777777778,
              "#fb9f3a"
             ],
             [
              0.8888888888888888,
              "#fdca26"
             ],
             [
              1,
              "#f0f921"
             ]
            ],
            "type": "contour"
           }
          ],
          "contourcarpet": [
           {
            "colorbar": {
             "outlinewidth": 0,
             "ticks": ""
            },
            "type": "contourcarpet"
           }
          ],
          "heatmap": [
           {
            "colorbar": {
             "outlinewidth": 0,
             "ticks": ""
            },
            "colorscale": [
             [
              0,
              "#0d0887"
             ],
             [
              0.1111111111111111,
              "#46039f"
             ],
             [
              0.2222222222222222,
              "#7201a8"
             ],
             [
              0.3333333333333333,
              "#9c179e"
             ],
             [
              0.4444444444444444,
              "#bd3786"
             ],
             [
              0.5555555555555556,
              "#d8576b"
             ],
             [
              0.6666666666666666,
              "#ed7953"
             ],
             [
              0.7777777777777778,
              "#fb9f3a"
             ],
             [
              0.8888888888888888,
              "#fdca26"
             ],
             [
              1,
              "#f0f921"
             ]
            ],
            "type": "heatmap"
           }
          ],
          "histogram": [
           {
            "marker": {
             "pattern": {
              "fillmode": "overlay",
              "size": 10,
              "solidity": 0.2
             }
            },
            "type": "histogram"
           }
          ],
          "histogram2d": [
           {
            "colorbar": {
             "outlinewidth": 0,
             "ticks": ""
            },
            "colorscale": [
             [
              0,
              "#0d0887"
             ],
             [
              0.1111111111111111,
              "#46039f"
             ],
             [
              0.2222222222222222,
              "#7201a8"
             ],
             [
              0.3333333333333333,
              "#9c179e"
             ],
             [
              0.4444444444444444,
              "#bd3786"
             ],
             [
              0.5555555555555556,
              "#d8576b"
             ],
             [
              0.6666666666666666,
              "#ed7953"
             ],
             [
              0.7777777777777778,
              "#fb9f3a"
             ],
             [
              0.8888888888888888,
              "#fdca26"
             ],
             [
              1,
              "#f0f921"
             ]
            ],
            "type": "histogram2d"
           }
          ],
          "histogram2dcontour": [
           {
            "colorbar": {
             "outlinewidth": 0,
             "ticks": ""
            },
            "colorscale": [
             [
              0,
              "#0d0887"
             ],
             [
              0.1111111111111111,
              "#46039f"
             ],
             [
              0.2222222222222222,
              "#7201a8"
             ],
             [
              0.3333333333333333,
              "#9c179e"
             ],
             [
              0.4444444444444444,
              "#bd3786"
             ],
             [
              0.5555555555555556,
              "#d8576b"
             ],
             [
              0.6666666666666666,
              "#ed7953"
             ],
             [
              0.7777777777777778,
              "#fb9f3a"
             ],
             [
              0.8888888888888888,
              "#fdca26"
             ],
             [
              1,
              "#f0f921"
             ]
            ],
            "type": "histogram2dcontour"
           }
          ],
          "mesh3d": [
           {
            "colorbar": {
             "outlinewidth": 0,
             "ticks": ""
            },
            "type": "mesh3d"
           }
          ],
          "parcoords": [
           {
            "line": {
             "colorbar": {
              "outlinewidth": 0,
              "ticks": ""
             }
            },
            "type": "parcoords"
           }
          ],
          "pie": [
           {
            "automargin": true,
            "type": "pie"
           }
          ],
          "scatter": [
           {
            "fillpattern": {
             "fillmode": "overlay",
             "size": 10,
             "solidity": 0.2
            },
            "type": "scatter"
           }
          ],
          "scatter3d": [
           {
            "line": {
             "colorbar": {
              "outlinewidth": 0,
              "ticks": ""
             }
            },
            "marker": {
             "colorbar": {
              "outlinewidth": 0,
              "ticks": ""
             }
            },
            "type": "scatter3d"
           }
          ],
          "scattercarpet": [
           {
            "marker": {
             "colorbar": {
              "outlinewidth": 0,
              "ticks": ""
             }
            },
            "type": "scattercarpet"
           }
          ],
          "scattergeo": [
           {
            "marker": {
             "colorbar": {
              "outlinewidth": 0,
              "ticks": ""
             }
            },
            "type": "scattergeo"
           }
          ],
          "scattergl": [
           {
            "marker": {
             "colorbar": {
              "outlinewidth": 0,
              "ticks": ""
             }
            },
            "type": "scattergl"
           }
          ],
          "scattermap": [
           {
            "marker": {
             "colorbar": {
              "outlinewidth": 0,
              "ticks": ""
             }
            },
            "type": "scattermap"
           }
          ],
          "scattermapbox": [
           {
            "marker": {
             "colorbar": {
              "outlinewidth": 0,
              "ticks": ""
             }
            },
            "type": "scattermapbox"
           }
          ],
          "scatterpolar": [
           {
            "marker": {
             "colorbar": {
              "outlinewidth": 0,
              "ticks": ""
             }
            },
            "type": "scatterpolar"
           }
          ],
          "scatterpolargl": [
           {
            "marker": {
             "colorbar": {
              "outlinewidth": 0,
              "ticks": ""
             }
            },
            "type": "scatterpolargl"
           }
          ],
          "scatterternary": [
           {
            "marker": {
             "colorbar": {
              "outlinewidth": 0,
              "ticks": ""
             }
            },
            "type": "scatterternary"
           }
          ],
          "surface": [
           {
            "colorbar": {
             "outlinewidth": 0,
             "ticks": ""
            },
            "colorscale": [
             [
              0,
              "#0d0887"
             ],
             [
              0.1111111111111111,
              "#46039f"
             ],
             [
              0.2222222222222222,
              "#7201a8"
             ],
             [
              0.3333333333333333,
              "#9c179e"
             ],
             [
              0.4444444444444444,
              "#bd3786"
             ],
             [
              0.5555555555555556,
              "#d8576b"
             ],
             [
              0.6666666666666666,
              "#ed7953"
             ],
             [
              0.7777777777777778,
              "#fb9f3a"
             ],
             [
              0.8888888888888888,
              "#fdca26"
             ],
             [
              1,
              "#f0f921"
             ]
            ],
            "type": "surface"
           }
          ],
          "table": [
           {
            "cells": {
             "fill": {
              "color": "#EBF0F8"
             },
             "line": {
              "color": "white"
             }
            },
            "header": {
             "fill": {
              "color": "#C8D4E3"
             },
             "line": {
              "color": "white"
             }
            },
            "type": "table"
           }
          ]
         },
         "layout": {
          "annotationdefaults": {
           "arrowcolor": "#2a3f5f",
           "arrowhead": 0,
           "arrowwidth": 1
          },
          "autotypenumbers": "strict",
          "coloraxis": {
           "colorbar": {
            "outlinewidth": 0,
            "ticks": ""
           }
          },
          "colorscale": {
           "diverging": [
            [
             0,
             "#8e0152"
            ],
            [
             0.1,
             "#c51b7d"
            ],
            [
             0.2,
             "#de77ae"
            ],
            [
             0.3,
             "#f1b6da"
            ],
            [
             0.4,
             "#fde0ef"
            ],
            [
             0.5,
             "#f7f7f7"
            ],
            [
             0.6,
             "#e6f5d0"
            ],
            [
             0.7,
             "#b8e186"
            ],
            [
             0.8,
             "#7fbc41"
            ],
            [
             0.9,
             "#4d9221"
            ],
            [
             1,
             "#276419"
            ]
           ],
           "sequential": [
            [
             0,
             "#0d0887"
            ],
            [
             0.1111111111111111,
             "#46039f"
            ],
            [
             0.2222222222222222,
             "#7201a8"
            ],
            [
             0.3333333333333333,
             "#9c179e"
            ],
            [
             0.4444444444444444,
             "#bd3786"
            ],
            [
             0.5555555555555556,
             "#d8576b"
            ],
            [
             0.6666666666666666,
             "#ed7953"
            ],
            [
             0.7777777777777778,
             "#fb9f3a"
            ],
            [
             0.8888888888888888,
             "#fdca26"
            ],
            [
             1,
             "#f0f921"
            ]
           ],
           "sequentialminus": [
            [
             0,
             "#0d0887"
            ],
            [
             0.1111111111111111,
             "#46039f"
            ],
            [
             0.2222222222222222,
             "#7201a8"
            ],
            [
             0.3333333333333333,
             "#9c179e"
            ],
            [
             0.4444444444444444,
             "#bd3786"
            ],
            [
             0.5555555555555556,
             "#d8576b"
            ],
            [
             0.6666666666666666,
             "#ed7953"
            ],
            [
             0.7777777777777778,
             "#fb9f3a"
            ],
            [
             0.8888888888888888,
             "#fdca26"
            ],
            [
             1,
             "#f0f921"
            ]
           ]
          },
          "colorway": [
           "#636efa",
           "#EF553B",
           "#00cc96",
           "#ab63fa",
           "#FFA15A",
           "#19d3f3",
           "#FF6692",
           "#B6E880",
           "#FF97FF",
           "#FECB52"
          ],
          "font": {
           "color": "#2a3f5f"
          },
          "geo": {
           "bgcolor": "white",
           "lakecolor": "white",
           "landcolor": "#E5ECF6",
           "showlakes": true,
           "showland": true,
           "subunitcolor": "white"
          },
          "hoverlabel": {
           "align": "left"
          },
          "hovermode": "closest",
          "mapbox": {
           "style": "light"
          },
          "paper_bgcolor": "white",
          "plot_bgcolor": "#E5ECF6",
          "polar": {
           "angularaxis": {
            "gridcolor": "white",
            "linecolor": "white",
            "ticks": ""
           },
           "bgcolor": "#E5ECF6",
           "radialaxis": {
            "gridcolor": "white",
            "linecolor": "white",
            "ticks": ""
           }
          },
          "scene": {
           "xaxis": {
            "backgroundcolor": "#E5ECF6",
            "gridcolor": "white",
            "gridwidth": 2,
            "linecolor": "white",
            "showbackground": true,
            "ticks": "",
            "zerolinecolor": "white"
           },
           "yaxis": {
            "backgroundcolor": "#E5ECF6",
            "gridcolor": "white",
            "gridwidth": 2,
            "linecolor": "white",
            "showbackground": true,
            "ticks": "",
            "zerolinecolor": "white"
           },
           "zaxis": {
            "backgroundcolor": "#E5ECF6",
            "gridcolor": "white",
            "gridwidth": 2,
            "linecolor": "white",
            "showbackground": true,
            "ticks": "",
            "zerolinecolor": "white"
           }
          },
          "shapedefaults": {
           "line": {
            "color": "#2a3f5f"
           }
          },
          "ternary": {
           "aaxis": {
            "gridcolor": "white",
            "linecolor": "white",
            "ticks": ""
           },
           "baxis": {
            "gridcolor": "white",
            "linecolor": "white",
            "ticks": ""
           },
           "bgcolor": "#E5ECF6",
           "caxis": {
            "gridcolor": "white",
            "linecolor": "white",
            "ticks": ""
           }
          },
          "title": {
           "x": 0.05
          },
          "xaxis": {
           "automargin": true,
           "gridcolor": "white",
           "linecolor": "white",
           "ticks": "",
           "title": {
            "standoff": 15
           },
           "zerolinecolor": "white",
           "zerolinewidth": 2
          },
          "yaxis": {
           "automargin": true,
           "gridcolor": "white",
           "linecolor": "white",
           "ticks": "",
           "title": {
            "standoff": 15
           },
           "zerolinecolor": "white",
           "zerolinewidth": 2
          }
         }
        },
        "width": 1000,
        "xaxis": {
         "anchor": "y",
         "domain": [
          0,
          1
         ]
        },
        "xaxis2": {
         "anchor": "y2",
         "domain": [
          0,
          1
         ]
        },
        "xaxis3": {
         "anchor": "y3",
         "domain": [
          0,
          1
         ]
        },
        "xaxis4": {
         "anchor": "y4",
         "domain": [
          0,
          1
         ]
        },
        "yaxis": {
         "anchor": "x",
         "domain": [
          0.7949999999999999,
          1
         ]
        },
        "yaxis2": {
         "anchor": "x2",
         "domain": [
          0.53,
          0.7350000000000001
         ]
        },
        "yaxis3": {
         "anchor": "x3",
         "domain": [
          0.265,
          0.47000000000000003
         ]
        },
        "yaxis4": {
         "anchor": "x4",
         "domain": [
          0,
          0.20500000000000002
         ]
        }
       }
      }
     },
     "metadata": {},
     "output_type": "display_data"
    }
   ],
   "source": [
    "engine.load_data()\n",
    "engine.run_backtesting()\n",
    "df = engine.calculate_result()\n",
    "engine.calculate_statistics()\n",
    "engine.show_chart()"
   ]
  },
  {
   "cell_type": "code",
   "execution_count": null,
   "metadata": {},
   "outputs": [],
   "source": []
  },
  {
   "cell_type": "code",
   "execution_count": null,
   "metadata": {},
   "outputs": [],
   "source": []
  }
 ],
 "metadata": {
  "kernelspec": {
   "display_name": "vnpy_evo_py3.12",
   "language": "python",
   "name": "python3"
  },
  "language_info": {
   "codemirror_mode": {
    "name": "ipython",
    "version": 3
   },
   "file_extension": ".py",
   "mimetype": "text/x-python",
   "name": "python",
   "nbconvert_exporter": "python",
   "pygments_lexer": "ipython3",
   "version": "3.12.9"
  }
 },
 "nbformat": 4,
 "nbformat_minor": 2
}
