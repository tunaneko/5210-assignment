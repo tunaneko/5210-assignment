{
 "cells": [
  {
   "cell_type": "code",
   "execution_count": 1,
   "metadata": {},
   "outputs": [
    {
     "name": "stdout",
     "output_type": "stream",
     "text": [
      "The Zen of Python, by Tim Peters\n",
      "\n",
      "Beautiful is better than ugly.\n",
      "Explicit is better than implicit.\n",
      "Simple is better than complex.\n",
      "Complex is better than complicated.\n",
      "Flat is better than nested.\n",
      "Sparse is better than dense.\n",
      "Readability counts.\n",
      "Special cases aren't special enough to break the rules.\n",
      "Although practicality beats purity.\n",
      "Errors should never pass silently.\n",
      "Unless explicitly silenced.\n",
      "In the face of ambiguity, refuse the temptation to guess.\n",
      "There should be one-- and preferably only one --obvious way to do it.\n",
      "Although that way may not be obvious at first unless you're Dutch.\n",
      "Now is better than never.\n",
      "Although never is often better than *right* now.\n",
      "If the implementation is hard to explain, it's a bad idea.\n",
      "If the implementation is easy to explain, it may be a good idea.\n",
      "Namespaces are one honking great idea -- let's do more of those!\n"
     ]
    }
   ],
   "source": [
    "from datetime import datetime\n",
    "\n",
    "from vnpy_evo.trader.optimize import OptimizationSetting\n",
    "from vnpy_novastrategy.backtesting import BacktestingEngine\n",
    "from vnpy_novastrategy.strategies.reverse import KDJStrategy\n",
    "from vnpy_evo.trader.constant import Interval"
   ]
  },
  {
   "cell_type": "code",
   "execution_count": 2,
   "metadata": {},
   "outputs": [],
   "source": [
    "engine = BacktestingEngine()\n",
    "engine.set_parameters(\n",
    "    # vt_symbol=\"BTCUSDT.BINANCE\",\n",
    "    interval=Interval.MINUTE,\n",
    "    start=datetime(2024, 1, 1),\n",
    "    end=datetime(2024, 12, 30),\n",
    "    # rate=0.3/10000,\n",
    "    # slippage=0.2,\n",
    "    # size=300,\n",
    "    # pricetick=0.2,\n",
    "    capital=50_000,\n",
    ")\n",
    "engine.add_contract(\"BTC.BINANCE\", 1, 0.1, 0.02, 0.0003, 10)\n",
    "engine.add_strategy(KDJStrategy, {})"
   ]
  },
  {
   "cell_type": "code",
   "execution_count": 3,
   "metadata": {},
   "outputs": [
    {
     "name": "stdout",
     "output_type": "stream",
     "text": [
      "2025-05-13 23:39:59.586438\tLoading history data.\n",
      "2025-05-13 23:40:12.255544\tBar data of BTC.BINANCE loaded, total count: 524161.\n",
      "2025-05-13 23:40:12.255544\tHistory data all loaded.\n"
     ]
    },
    {
     "name": "stderr",
     "output_type": "stream",
     "text": [
      "d:\\anaconda3\\envs\\vnpy_evo_py3.12\\Lib\\site-packages\\vnpy_novastrategy\\strategies\\reverse.py:114: RuntimeWarning: invalid value encountered in scalar divide\n",
      "  normalized_k = (k - min(self.kdj_k)) / (max(self.kdj_k) - min(self.kdj_k)) * 100\n",
      "d:\\anaconda3\\envs\\vnpy_evo_py3.12\\Lib\\site-packages\\vnpy_novastrategy\\strategies\\reverse.py:115: RuntimeWarning: invalid value encountered in scalar divide\n",
      "  normalized_d = (d - min(self.kdj_d)) / (max(self.kdj_d) - min(self.kdj_d)) * 100\n"
     ]
    },
    {
     "name": "stdout",
     "output_type": "stream",
     "text": [
      "2025-05-13 23:40:17.058774\tThe strategy is inited.\n",
      "2025-05-13 23:40:17.058774\tStarting to replay history data.\n"
     ]
    },
    {
     "name": "stderr",
     "output_type": "stream",
     "text": [
      "100%|██████████| 380161/380161 [00:18<00:00, 20527.68it/s]\n"
     ]
    },
    {
     "name": "stdout",
     "output_type": "stream",
     "text": [
      "2025-05-13 23:40:35.596639\tReplaying history data finished.\n",
      "2025-05-13 23:40:35.603805\tCalculating daily PnL.\n",
      "2025-05-13 23:40:35.822022\tCalculation of daily PnL finished.\n",
      "2025-05-13 23:40:35.822022\tCalculating performance statistics.\n",
      "2025-05-13 23:40:35.827252\t------------------------------\n",
      "2025-05-13 23:40:35.827252\tStart Date:\t2024-04-10\n",
      "2025-05-13 23:40:35.827252\tEnd Date:\t2024-12-30\n",
      "2025-05-13 23:40:35.827252\tTotal Days:\t265\n",
      "2025-05-13 23:40:35.827252\tProfit Days:\t133\n",
      "2025-05-13 23:40:35.827252\tLoss Days:\t131\n",
      "2025-05-13 23:40:35.827252\tStart Balance:\t50,000.00\n",
      "2025-05-13 23:40:35.827252\tEnd Balance:\t53,540.72\n",
      "2025-05-13 23:40:35.827252\tTotal Return:\t7.08%\n",
      "2025-05-13 23:40:35.827252\tAnnual Return:\t9.75%\n",
      "2025-05-13 23:40:35.827252\tMax Drawdown: \t-1,244.74\n",
      "2025-05-13 23:40:35.827252\tMax Drawdown(%): -2.39%\n",
      "2025-05-13 23:40:35.827252\tMax Drawdown Duration: \t13\n",
      "2025-05-13 23:40:35.827252\tTotal PnL:\t3,540.72\n",
      "2025-05-13 23:40:35.827252\tTotal Commission:\t174.92\n",
      "2025-05-13 23:40:35.827252\tTotal Slippage:\t89.00\n",
      "2025-05-13 23:40:35.827252\tTotal Turnover:\t583,059.19\n",
      "2025-05-13 23:40:35.827252\tTotal Trades:\t380160\n",
      "2025-05-13 23:40:35.827252\tDaily PnL:\t13.36\n",
      "2025-05-13 23:40:35.827252\tDaily Commission:\t0.66\n",
      "2025-05-13 23:40:35.827252\tDaily Slippage:\t0.34\n",
      "2025-05-13 23:40:35.827252\tDaily Turnover:\t2,200.22\n",
      "2025-05-13 23:40:35.827252\tDaily Trades:\t1434.566037735849\n",
      "2025-05-13 23:40:35.827252\tDaily Return:\t0.03%\n",
      "2025-05-13 23:40:35.827252\tReturn Std:\t0.35%\n",
      "2025-05-13 23:40:35.827252\tSharpe Ratio:\t1.40\n",
      "2025-05-13 23:40:35.827252\tReturn Drawdown Ratio:\t2.84\n",
      "2025-05-13 23:40:35.827252\tCalculation of performance statistics finished.\n"
     ]
    },
    {
     "data": {
      "application/vnd.plotly.v1+json": {
       "config": {
        "plotlyServerURL": "https://plot.ly"
       },
       "data": [
        {
         "mode": "lines",
         "name": "Balance",
         "type": "scatter",
         "x": [
          "2024-04-10",
          "2024-04-11",
          "2024-04-12",
          "2024-04-13",
          "2024-04-14",
          "2024-04-15",
          "2024-04-16",
          "2024-04-17",
          "2024-04-18",
          "2024-04-19",
          "2024-04-20",
          "2024-04-21",
          "2024-04-22",
          "2024-04-23",
          "2024-04-24",
          "2024-04-25",
          "2024-04-26",
          "2024-04-27",
          "2024-04-28",
          "2024-04-29",
          "2024-04-30",
          "2024-05-01",
          "2024-05-02",
          "2024-05-03",
          "2024-05-04",
          "2024-05-05",
          "2024-05-06",
          "2024-05-07",
          "2024-05-08",
          "2024-05-09",
          "2024-05-10",
          "2024-05-11",
          "2024-05-12",
          "2024-05-13",
          "2024-05-14",
          "2024-05-15",
          "2024-05-16",
          "2024-05-17",
          "2024-05-18",
          "2024-05-19",
          "2024-05-20",
          "2024-05-21",
          "2024-05-22",
          "2024-05-23",
          "2024-05-24",
          "2024-05-25",
          "2024-05-26",
          "2024-05-27",
          "2024-05-28",
          "2024-05-29",
          "2024-05-30",
          "2024-05-31",
          "2024-06-01",
          "2024-06-02",
          "2024-06-03",
          "2024-06-04",
          "2024-06-05",
          "2024-06-06",
          "2024-06-07",
          "2024-06-08",
          "2024-06-09",
          "2024-06-10",
          "2024-06-11",
          "2024-06-12",
          "2024-06-13",
          "2024-06-14",
          "2024-06-15",
          "2024-06-16",
          "2024-06-17",
          "2024-06-18",
          "2024-06-19",
          "2024-06-20",
          "2024-06-21",
          "2024-06-22",
          "2024-06-23",
          "2024-06-24",
          "2024-06-25",
          "2024-06-26",
          "2024-06-27",
          "2024-06-28",
          "2024-06-29",
          "2024-06-30",
          "2024-07-01",
          "2024-07-02",
          "2024-07-03",
          "2024-07-04",
          "2024-07-05",
          "2024-07-06",
          "2024-07-07",
          "2024-07-08",
          "2024-07-09",
          "2024-07-10",
          "2024-07-11",
          "2024-07-12",
          "2024-07-13",
          "2024-07-14",
          "2024-07-15",
          "2024-07-16",
          "2024-07-17",
          "2024-07-18",
          "2024-07-19",
          "2024-07-20",
          "2024-07-21",
          "2024-07-22",
          "2024-07-23",
          "2024-07-24",
          "2024-07-25",
          "2024-07-26",
          "2024-07-27",
          "2024-07-28",
          "2024-07-29",
          "2024-07-30",
          "2024-07-31",
          "2024-08-01",
          "2024-08-02",
          "2024-08-03",
          "2024-08-04",
          "2024-08-05",
          "2024-08-06",
          "2024-08-07",
          "2024-08-08",
          "2024-08-09",
          "2024-08-10",
          "2024-08-11",
          "2024-08-12",
          "2024-08-13",
          "2024-08-14",
          "2024-08-15",
          "2024-08-16",
          "2024-08-17",
          "2024-08-18",
          "2024-08-19",
          "2024-08-20",
          "2024-08-21",
          "2024-08-22",
          "2024-08-23",
          "2024-08-24",
          "2024-08-25",
          "2024-08-26",
          "2024-08-27",
          "2024-08-28",
          "2024-08-29",
          "2024-08-30",
          "2024-08-31",
          "2024-09-01",
          "2024-09-02",
          "2024-09-03",
          "2024-09-04",
          "2024-09-05",
          "2024-09-06",
          "2024-09-07",
          "2024-09-08",
          "2024-09-09",
          "2024-09-10",
          "2024-09-11",
          "2024-09-12",
          "2024-09-13",
          "2024-09-14",
          "2024-09-15",
          "2024-09-16",
          "2024-09-17",
          "2024-09-18",
          "2024-09-19",
          "2024-09-20",
          "2024-09-21",
          "2024-09-22",
          "2024-09-23",
          "2024-09-24",
          "2024-09-25",
          "2024-09-26",
          "2024-09-27",
          "2024-09-28",
          "2024-09-29",
          "2024-09-30",
          "2024-10-01",
          "2024-10-02",
          "2024-10-03",
          "2024-10-04",
          "2024-10-05",
          "2024-10-06",
          "2024-10-07",
          "2024-10-08",
          "2024-10-09",
          "2024-10-10",
          "2024-10-11",
          "2024-10-12",
          "2024-10-13",
          "2024-10-14",
          "2024-10-15",
          "2024-10-16",
          "2024-10-17",
          "2024-10-18",
          "2024-10-19",
          "2024-10-20",
          "2024-10-21",
          "2024-10-22",
          "2024-10-23",
          "2024-10-24",
          "2024-10-25",
          "2024-10-26",
          "2024-10-27",
          "2024-10-28",
          "2024-10-29",
          "2024-10-30",
          "2024-10-31",
          "2024-11-01",
          "2024-11-02",
          "2024-11-03",
          "2024-11-04",
          "2024-11-05",
          "2024-11-06",
          "2024-11-07",
          "2024-11-08",
          "2024-11-09",
          "2024-11-10",
          "2024-11-11",
          "2024-11-12",
          "2024-11-13",
          "2024-11-14",
          "2024-11-15",
          "2024-11-16",
          "2024-11-17",
          "2024-11-18",
          "2024-11-19",
          "2024-11-20",
          "2024-11-21",
          "2024-11-22",
          "2024-11-23",
          "2024-11-24",
          "2024-11-25",
          "2024-11-26",
          "2024-11-27",
          "2024-11-28",
          "2024-11-29",
          "2024-11-30",
          "2024-12-01",
          "2024-12-02",
          "2024-12-03",
          "2024-12-04",
          "2024-12-05",
          "2024-12-06",
          "2024-12-07",
          "2024-12-08",
          "2024-12-09",
          "2024-12-10",
          "2024-12-11",
          "2024-12-12",
          "2024-12-13",
          "2024-12-14",
          "2024-12-15",
          "2024-12-16",
          "2024-12-17",
          "2024-12-18",
          "2024-12-19",
          "2024-12-20",
          "2024-12-21",
          "2024-12-22",
          "2024-12-23",
          "2024-12-24",
          "2024-12-25",
          "2024-12-26",
          "2024-12-27",
          "2024-12-28",
          "2024-12-29",
          "2024-12-30"
         ],
         "xaxis": "x",
         "y": {
          "bdata": "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",
          "dtype": "f8"
         },
         "yaxis": "y"
        },
        {
         "fill": "tozeroy",
         "fillcolor": "red",
         "mode": "lines",
         "name": "Drawdown",
         "type": "scatter",
         "x": [
          "2024-04-10",
          "2024-04-11",
          "2024-04-12",
          "2024-04-13",
          "2024-04-14",
          "2024-04-15",
          "2024-04-16",
          "2024-04-17",
          "2024-04-18",
          "2024-04-19",
          "2024-04-20",
          "2024-04-21",
          "2024-04-22",
          "2024-04-23",
          "2024-04-24",
          "2024-04-25",
          "2024-04-26",
          "2024-04-27",
          "2024-04-28",
          "2024-04-29",
          "2024-04-30",
          "2024-05-01",
          "2024-05-02",
          "2024-05-03",
          "2024-05-04",
          "2024-05-05",
          "2024-05-06",
          "2024-05-07",
          "2024-05-08",
          "2024-05-09",
          "2024-05-10",
          "2024-05-11",
          "2024-05-12",
          "2024-05-13",
          "2024-05-14",
          "2024-05-15",
          "2024-05-16",
          "2024-05-17",
          "2024-05-18",
          "2024-05-19",
          "2024-05-20",
          "2024-05-21",
          "2024-05-22",
          "2024-05-23",
          "2024-05-24",
          "2024-05-25",
          "2024-05-26",
          "2024-05-27",
          "2024-05-28",
          "2024-05-29",
          "2024-05-30",
          "2024-05-31",
          "2024-06-01",
          "2024-06-02",
          "2024-06-03",
          "2024-06-04",
          "2024-06-05",
          "2024-06-06",
          "2024-06-07",
          "2024-06-08",
          "2024-06-09",
          "2024-06-10",
          "2024-06-11",
          "2024-06-12",
          "2024-06-13",
          "2024-06-14",
          "2024-06-15",
          "2024-06-16",
          "2024-06-17",
          "2024-06-18",
          "2024-06-19",
          "2024-06-20",
          "2024-06-21",
          "2024-06-22",
          "2024-06-23",
          "2024-06-24",
          "2024-06-25",
          "2024-06-26",
          "2024-06-27",
          "2024-06-28",
          "2024-06-29",
          "2024-06-30",
          "2024-07-01",
          "2024-07-02",
          "2024-07-03",
          "2024-07-04",
          "2024-07-05",
          "2024-07-06",
          "2024-07-07",
          "2024-07-08",
          "2024-07-09",
          "2024-07-10",
          "2024-07-11",
          "2024-07-12",
          "2024-07-13",
          "2024-07-14",
          "2024-07-15",
          "2024-07-16",
          "2024-07-17",
          "2024-07-18",
          "2024-07-19",
          "2024-07-20",
          "2024-07-21",
          "2024-07-22",
          "2024-07-23",
          "2024-07-24",
          "2024-07-25",
          "2024-07-26",
          "2024-07-27",
          "2024-07-28",
          "2024-07-29",
          "2024-07-30",
          "2024-07-31",
          "2024-08-01",
          "2024-08-02",
          "2024-08-03",
          "2024-08-04",
          "2024-08-05",
          "2024-08-06",
          "2024-08-07",
          "2024-08-08",
          "2024-08-09",
          "2024-08-10",
          "2024-08-11",
          "2024-08-12",
          "2024-08-13",
          "2024-08-14",
          "2024-08-15",
          "2024-08-16",
          "2024-08-17",
          "2024-08-18",
          "2024-08-19",
          "2024-08-20",
          "2024-08-21",
          "2024-08-22",
          "2024-08-23",
          "2024-08-24",
          "2024-08-25",
          "2024-08-26",
          "2024-08-27",
          "2024-08-28",
          "2024-08-29",
          "2024-08-30",
          "2024-08-31",
          "2024-09-01",
          "2024-09-02",
          "2024-09-03",
          "2024-09-04",
          "2024-09-05",
          "2024-09-06",
          "2024-09-07",
          "2024-09-08",
          "2024-09-09",
          "2024-09-10",
          "2024-09-11",
          "2024-09-12",
          "2024-09-13",
          "2024-09-14",
          "2024-09-15",
          "2024-09-16",
          "2024-09-17",
          "2024-09-18",
          "2024-09-19",
          "2024-09-20",
          "2024-09-21",
          "2024-09-22",
          "2024-09-23",
          "2024-09-24",
          "2024-09-25",
          "2024-09-26",
          "2024-09-27",
          "2024-09-28",
          "2024-09-29",
          "2024-09-30",
          "2024-10-01",
          "2024-10-02",
          "2024-10-03",
          "2024-10-04",
          "2024-10-05",
          "2024-10-06",
          "2024-10-07",
          "2024-10-08",
          "2024-10-09",
          "2024-10-10",
          "2024-10-11",
          "2024-10-12",
          "2024-10-13",
          "2024-10-14",
          "2024-10-15",
          "2024-10-16",
          "2024-10-17",
          "2024-10-18",
          "2024-10-19",
          "2024-10-20",
          "2024-10-21",
          "2024-10-22",
          "2024-10-23",
          "2024-10-24",
          "2024-10-25",
          "2024-10-26",
          "2024-10-27",
          "2024-10-28",
          "2024-10-29",
          "2024-10-30",
          "2024-10-31",
          "2024-11-01",
          "2024-11-02",
          "2024-11-03",
          "2024-11-04",
          "2024-11-05",
          "2024-11-06",
          "2024-11-07",
          "2024-11-08",
          "2024-11-09",
          "2024-11-10",
          "2024-11-11",
          "2024-11-12",
          "2024-11-13",
          "2024-11-14",
          "2024-11-15",
          "2024-11-16",
          "2024-11-17",
          "2024-11-18",
          "2024-11-19",
          "2024-11-20",
          "2024-11-21",
          "2024-11-22",
          "2024-11-23",
          "2024-11-24",
          "2024-11-25",
          "2024-11-26",
          "2024-11-27",
          "2024-11-28",
          "2024-11-29",
          "2024-11-30",
          "2024-12-01",
          "2024-12-02",
          "2024-12-03",
          "2024-12-04",
          "2024-12-05",
          "2024-12-06",
          "2024-12-07",
          "2024-12-08",
          "2024-12-09",
          "2024-12-10",
          "2024-12-11",
          "2024-12-12",
          "2024-12-13",
          "2024-12-14",
          "2024-12-15",
          "2024-12-16",
          "2024-12-17",
          "2024-12-18",
          "2024-12-19",
          "2024-12-20",
          "2024-12-21",
          "2024-12-22",
          "2024-12-23",
          "2024-12-24",
          "2024-12-25",
          "2024-12-26",
          "2024-12-27",
          "2024-12-28",
          "2024-12-29",
          "2024-12-30"
         ],
         "xaxis": "x2",
         "y": {
          "bdata": "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",
          "dtype": "f8"
         },
         "yaxis": "y2"
        },
        {
         "name": "Daily PnL",
         "type": "bar",
         "xaxis": "x3",
         "y": {
          "bdata": "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",
          "dtype": "f8"
         },
         "yaxis": "y3"
        },
        {
         "name": "Days",
         "nbinsx": 100,
         "type": "histogram",
         "x": {
          "bdata": "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",
          "dtype": "f8"
         },
         "xaxis": "x4",
         "yaxis": "y4"
        }
       ],
       "layout": {
        "annotations": [
         {
          "font": {
           "size": 16
          },
          "showarrow": false,
          "text": "Balance",
          "x": 0.5,
          "xanchor": "center",
          "xref": "paper",
          "y": 1,
          "yanchor": "bottom",
          "yref": "paper"
         },
         {
          "font": {
           "size": 16
          },
          "showarrow": false,
          "text": "Drawdown",
          "x": 0.5,
          "xanchor": "center",
          "xref": "paper",
          "y": 0.7350000000000001,
          "yanchor": "bottom",
          "yref": "paper"
         },
         {
          "font": {
           "size": 16
          },
          "showarrow": false,
          "text": "Daily PnL",
          "x": 0.5,
          "xanchor": "center",
          "xref": "paper",
          "y": 0.47000000000000003,
          "yanchor": "bottom",
          "yref": "paper"
         },
         {
          "font": {
           "size": 16
          },
          "showarrow": false,
          "text": "PnL Distribution",
          "x": 0.5,
          "xanchor": "center",
          "xref": "paper",
          "y": 0.20500000000000002,
          "yanchor": "bottom",
          "yref": "paper"
         }
        ],
        "height": 1000,
        "template": {
         "data": {
          "bar": [
           {
            "error_x": {
             "color": "#2a3f5f"
            },
            "error_y": {
             "color": "#2a3f5f"
            },
            "marker": {
             "line": {
              "color": "#E5ECF6",
              "width": 0.5
             },
             "pattern": {
              "fillmode": "overlay",
              "size": 10,
              "solidity": 0.2
             }
            },
            "type": "bar"
           }
          ],
          "barpolar": [
           {
            "marker": {
             "line": {
              "color": "#E5ECF6",
              "width": 0.5
             },
             "pattern": {
              "fillmode": "overlay",
              "size": 10,
              "solidity": 0.2
             }
            },
            "type": "barpolar"
           }
          ],
          "carpet": [
           {
            "aaxis": {
             "endlinecolor": "#2a3f5f",
             "gridcolor": "white",
             "linecolor": "white",
             "minorgridcolor": "white",
             "startlinecolor": "#2a3f5f"
            },
            "baxis": {
             "endlinecolor": "#2a3f5f",
             "gridcolor": "white",
             "linecolor": "white",
             "minorgridcolor": "white",
             "startlinecolor": "#2a3f5f"
            },
            "type": "carpet"
           }
          ],
          "choropleth": [
           {
            "colorbar": {
             "outlinewidth": 0,
             "ticks": ""
            },
            "type": "choropleth"
           }
          ],
          "contour": [
           {
            "colorbar": {
             "outlinewidth": 0,
             "ticks": ""
            },
            "colorscale": [
             [
              0,
              "#0d0887"
             ],
             [
              0.1111111111111111,
              "#46039f"
             ],
             [
              0.2222222222222222,
              "#7201a8"
             ],
             [
              0.3333333333333333,
              "#9c179e"
             ],
             [
              0.4444444444444444,
              "#bd3786"
             ],
             [
              0.5555555555555556,
              "#d8576b"
             ],
             [
              0.6666666666666666,
              "#ed7953"
             ],
             [
              0.7777777777777778,
              "#fb9f3a"
             ],
             [
              0.8888888888888888,
              "#fdca26"
             ],
             [
              1,
              "#f0f921"
             ]
            ],
            "type": "contour"
           }
          ],
          "contourcarpet": [
           {
            "colorbar": {
             "outlinewidth": 0,
             "ticks": ""
            },
            "type": "contourcarpet"
           }
          ],
          "heatmap": [
           {
            "colorbar": {
             "outlinewidth": 0,
             "ticks": ""
            },
            "colorscale": [
             [
              0,
              "#0d0887"
             ],
             [
              0.1111111111111111,
              "#46039f"
             ],
             [
              0.2222222222222222,
              "#7201a8"
             ],
             [
              0.3333333333333333,
              "#9c179e"
             ],
             [
              0.4444444444444444,
              "#bd3786"
             ],
             [
              0.5555555555555556,
              "#d8576b"
             ],
             [
              0.6666666666666666,
              "#ed7953"
             ],
             [
              0.7777777777777778,
              "#fb9f3a"
             ],
             [
              0.8888888888888888,
              "#fdca26"
             ],
             [
              1,
              "#f0f921"
             ]
            ],
            "type": "heatmap"
           }
          ],
          "histogram": [
           {
            "marker": {
             "pattern": {
              "fillmode": "overlay",
              "size": 10,
              "solidity": 0.2
             }
            },
            "type": "histogram"
           }
          ],
          "histogram2d": [
           {
            "colorbar": {
             "outlinewidth": 0,
             "ticks": ""
            },
            "colorscale": [
             [
              0,
              "#0d0887"
             ],
             [
              0.1111111111111111,
              "#46039f"
             ],
             [
              0.2222222222222222,
              "#7201a8"
             ],
             [
              0.3333333333333333,
              "#9c179e"
             ],
             [
              0.4444444444444444,
              "#bd3786"
             ],
             [
              0.5555555555555556,
              "#d8576b"
             ],
             [
              0.6666666666666666,
              "#ed7953"
             ],
             [
              0.7777777777777778,
              "#fb9f3a"
             ],
             [
              0.8888888888888888,
              "#fdca26"
             ],
             [
              1,
              "#f0f921"
             ]
            ],
            "type": "histogram2d"
           }
          ],
          "histogram2dcontour": [
           {
            "colorbar": {
             "outlinewidth": 0,
             "ticks": ""
            },
            "colorscale": [
             [
              0,
              "#0d0887"
             ],
             [
              0.1111111111111111,
              "#46039f"
             ],
             [
              0.2222222222222222,
              "#7201a8"
             ],
             [
              0.3333333333333333,
              "#9c179e"
             ],
             [
              0.4444444444444444,
              "#bd3786"
             ],
             [
              0.5555555555555556,
              "#d8576b"
             ],
             [
              0.6666666666666666,
              "#ed7953"
             ],
             [
              0.7777777777777778,
              "#fb9f3a"
             ],
             [
              0.8888888888888888,
              "#fdca26"
             ],
             [
              1,
              "#f0f921"
             ]
            ],
            "type": "histogram2dcontour"
           }
          ],
          "mesh3d": [
           {
            "colorbar": {
             "outlinewidth": 0,
             "ticks": ""
            },
            "type": "mesh3d"
           }
          ],
          "parcoords": [
           {
            "line": {
             "colorbar": {
              "outlinewidth": 0,
              "ticks": ""
             }
            },
            "type": "parcoords"
           }
          ],
          "pie": [
           {
            "automargin": true,
            "type": "pie"
           }
          ],
          "scatter": [
           {
            "fillpattern": {
             "fillmode": "overlay",
             "size": 10,
             "solidity": 0.2
            },
            "type": "scatter"
           }
          ],
          "scatter3d": [
           {
            "line": {
             "colorbar": {
              "outlinewidth": 0,
              "ticks": ""
             }
            },
            "marker": {
             "colorbar": {
              "outlinewidth": 0,
              "ticks": ""
             }
            },
            "type": "scatter3d"
           }
          ],
          "scattercarpet": [
           {
            "marker": {
             "colorbar": {
              "outlinewidth": 0,
              "ticks": ""
             }
            },
            "type": "scattercarpet"
           }
          ],
          "scattergeo": [
           {
            "marker": {
             "colorbar": {
              "outlinewidth": 0,
              "ticks": ""
             }
            },
            "type": "scattergeo"
           }
          ],
          "scattergl": [
           {
            "marker": {
             "colorbar": {
              "outlinewidth": 0,
              "ticks": ""
             }
            },
            "type": "scattergl"
           }
          ],
          "scattermap": [
           {
            "marker": {
             "colorbar": {
              "outlinewidth": 0,
              "ticks": ""
             }
            },
            "type": "scattermap"
           }
          ],
          "scattermapbox": [
           {
            "marker": {
             "colorbar": {
              "outlinewidth": 0,
              "ticks": ""
             }
            },
            "type": "scattermapbox"
           }
          ],
          "scatterpolar": [
           {
            "marker": {
             "colorbar": {
              "outlinewidth": 0,
              "ticks": ""
             }
            },
            "type": "scatterpolar"
           }
          ],
          "scatterpolargl": [
           {
            "marker": {
             "colorbar": {
              "outlinewidth": 0,
              "ticks": ""
             }
            },
            "type": "scatterpolargl"
           }
          ],
          "scatterternary": [
           {
            "marker": {
             "colorbar": {
              "outlinewidth": 0,
              "ticks": ""
             }
            },
            "type": "scatterternary"
           }
          ],
          "surface": [
           {
            "colorbar": {
             "outlinewidth": 0,
             "ticks": ""
            },
            "colorscale": [
             [
              0,
              "#0d0887"
             ],
             [
              0.1111111111111111,
              "#46039f"
             ],
             [
              0.2222222222222222,
              "#7201a8"
             ],
             [
              0.3333333333333333,
              "#9c179e"
             ],
             [
              0.4444444444444444,
              "#bd3786"
             ],
             [
              0.5555555555555556,
              "#d8576b"
             ],
             [
              0.6666666666666666,
              "#ed7953"
             ],
             [
              0.7777777777777778,
              "#fb9f3a"
             ],
             [
              0.8888888888888888,
              "#fdca26"
             ],
             [
              1,
              "#f0f921"
             ]
            ],
            "type": "surface"
           }
          ],
          "table": [
           {
            "cells": {
             "fill": {
              "color": "#EBF0F8"
             },
             "line": {
              "color": "white"
             }
            },
            "header": {
             "fill": {
              "color": "#C8D4E3"
             },
             "line": {
              "color": "white"
             }
            },
            "type": "table"
           }
          ]
         },
         "layout": {
          "annotationdefaults": {
           "arrowcolor": "#2a3f5f",
           "arrowhead": 0,
           "arrowwidth": 1
          },
          "autotypenumbers": "strict",
          "coloraxis": {
           "colorbar": {
            "outlinewidth": 0,
            "ticks": ""
           }
          },
          "colorscale": {
           "diverging": [
            [
             0,
             "#8e0152"
            ],
            [
             0.1,
             "#c51b7d"
            ],
            [
             0.2,
             "#de77ae"
            ],
            [
             0.3,
             "#f1b6da"
            ],
            [
             0.4,
             "#fde0ef"
            ],
            [
             0.5,
             "#f7f7f7"
            ],
            [
             0.6,
             "#e6f5d0"
            ],
            [
             0.7,
             "#b8e186"
            ],
            [
             0.8,
             "#7fbc41"
            ],
            [
             0.9,
             "#4d9221"
            ],
            [
             1,
             "#276419"
            ]
           ],
           "sequential": [
            [
             0,
             "#0d0887"
            ],
            [
             0.1111111111111111,
             "#46039f"
            ],
            [
             0.2222222222222222,
             "#7201a8"
            ],
            [
             0.3333333333333333,
             "#9c179e"
            ],
            [
             0.4444444444444444,
             "#bd3786"
            ],
            [
             0.5555555555555556,
             "#d8576b"
            ],
            [
             0.6666666666666666,
             "#ed7953"
            ],
            [
             0.7777777777777778,
             "#fb9f3a"
            ],
            [
             0.8888888888888888,
             "#fdca26"
            ],
            [
             1,
             "#f0f921"
            ]
           ],
           "sequentialminus": [
            [
             0,
             "#0d0887"
            ],
            [
             0.1111111111111111,
             "#46039f"
            ],
            [
             0.2222222222222222,
             "#7201a8"
            ],
            [
             0.3333333333333333,
             "#9c179e"
            ],
            [
             0.4444444444444444,
             "#bd3786"
            ],
            [
             0.5555555555555556,
             "#d8576b"
            ],
            [
             0.6666666666666666,
             "#ed7953"
            ],
            [
             0.7777777777777778,
             "#fb9f3a"
            ],
            [
             0.8888888888888888,
             "#fdca26"
            ],
            [
             1,
             "#f0f921"
            ]
           ]
          },
          "colorway": [
           "#636efa",
           "#EF553B",
           "#00cc96",
           "#ab63fa",
           "#FFA15A",
           "#19d3f3",
           "#FF6692",
           "#B6E880",
           "#FF97FF",
           "#FECB52"
          ],
          "font": {
           "color": "#2a3f5f"
          },
          "geo": {
           "bgcolor": "white",
           "lakecolor": "white",
           "landcolor": "#E5ECF6",
           "showlakes": true,
           "showland": true,
           "subunitcolor": "white"
          },
          "hoverlabel": {
           "align": "left"
          },
          "hovermode": "closest",
          "mapbox": {
           "style": "light"
          },
          "paper_bgcolor": "white",
          "plot_bgcolor": "#E5ECF6",
          "polar": {
           "angularaxis": {
            "gridcolor": "white",
            "linecolor": "white",
            "ticks": ""
           },
           "bgcolor": "#E5ECF6",
           "radialaxis": {
            "gridcolor": "white",
            "linecolor": "white",
            "ticks": ""
           }
          },
          "scene": {
           "xaxis": {
            "backgroundcolor": "#E5ECF6",
            "gridcolor": "white",
            "gridwidth": 2,
            "linecolor": "white",
            "showbackground": true,
            "ticks": "",
            "zerolinecolor": "white"
           },
           "yaxis": {
            "backgroundcolor": "#E5ECF6",
            "gridcolor": "white",
            "gridwidth": 2,
            "linecolor": "white",
            "showbackground": true,
            "ticks": "",
            "zerolinecolor": "white"
           },
           "zaxis": {
            "backgroundcolor": "#E5ECF6",
            "gridcolor": "white",
            "gridwidth": 2,
            "linecolor": "white",
            "showbackground": true,
            "ticks": "",
            "zerolinecolor": "white"
           }
          },
          "shapedefaults": {
           "line": {
            "color": "#2a3f5f"
           }
          },
          "ternary": {
           "aaxis": {
            "gridcolor": "white",
            "linecolor": "white",
            "ticks": ""
           },
           "baxis": {
            "gridcolor": "white",
            "linecolor": "white",
            "ticks": ""
           },
           "bgcolor": "#E5ECF6",
           "caxis": {
            "gridcolor": "white",
            "linecolor": "white",
            "ticks": ""
           }
          },
          "title": {
           "x": 0.05
          },
          "xaxis": {
           "automargin": true,
           "gridcolor": "white",
           "linecolor": "white",
           "ticks": "",
           "title": {
            "standoff": 15
           },
           "zerolinecolor": "white",
           "zerolinewidth": 2
          },
          "yaxis": {
           "automargin": true,
           "gridcolor": "white",
           "linecolor": "white",
           "ticks": "",
           "title": {
            "standoff": 15
           },
           "zerolinecolor": "white",
           "zerolinewidth": 2
          }
         }
        },
        "width": 1000,
        "xaxis": {
         "anchor": "y",
         "domain": [
          0,
          1
         ]
        },
        "xaxis2": {
         "anchor": "y2",
         "domain": [
          0,
          1
         ]
        },
        "xaxis3": {
         "anchor": "y3",
         "domain": [
          0,
          1
         ]
        },
        "xaxis4": {
         "anchor": "y4",
         "domain": [
          0,
          1
         ]
        },
        "yaxis": {
         "anchor": "x",
         "domain": [
          0.7949999999999999,
          1
         ]
        },
        "yaxis2": {
         "anchor": "x2",
         "domain": [
          0.53,
          0.7350000000000001
         ]
        },
        "yaxis3": {
         "anchor": "x3",
         "domain": [
          0.265,
          0.47000000000000003
         ]
        },
        "yaxis4": {
         "anchor": "x4",
         "domain": [
          0,
          0.20500000000000002
         ]
        }
       }
      }
     },
     "metadata": {},
     "output_type": "display_data"
    }
   ],
   "source": [
    "engine.load_data()\n",
    "engine.run_backtesting()\n",
    "df = engine.calculate_result()\n",
    "engine.calculate_statistics()\n",
    "engine.show_chart()"
   ]
  },
  {
   "cell_type": "code",
   "execution_count": null,
   "metadata": {},
   "outputs": [],
   "source": []
  },
  {
   "cell_type": "code",
   "execution_count": null,
   "metadata": {},
   "outputs": [],
   "source": []
  }
 ],
 "metadata": {
  "kernelspec": {
   "display_name": "vnpy_evo_py3.12",
   "language": "python",
   "name": "python3"
  },
  "language_info": {
   "codemirror_mode": {
    "name": "ipython",
    "version": 3
   },
   "file_extension": ".py",
   "mimetype": "text/x-python",
   "name": "python",
   "nbconvert_exporter": "python",
   "pygments_lexer": "ipython3",
   "version": "3.12.9"
  }
 },
 "nbformat": 4,
 "nbformat_minor": 2
}
